{
  "nbformat": 4,
  "nbformat_minor": 0,
  "metadata": {
    "kernelspec": {
      "display_name": "Python 3",
      "language": "python",
      "name": "python3"
    },
    "language_info": {
      "codemirror_mode": {
        "name": "ipython",
        "version": 3
      },
      "file_extension": ".py",
      "mimetype": "text/x-python",
      "name": "python",
      "nbconvert_exporter": "python",
      "pygments_lexer": "ipython3",
      "version": "3.8.3"
    },
    "colab": {
      "name": "Preprocess.ipynb",
      "provenance": [],
      "toc_visible": true
    }
  },
  "cells": [
    {
      "cell_type": "code",
      "metadata": {
        "id": "hFsGeKGjNPPW"
      },
      "source": [
        "#import dependencies\n",
        "import pandas as pd\n",
        "import glob"
      ],
      "execution_count": null,
      "outputs": []
    },
    {
      "cell_type": "markdown",
      "metadata": {
        "id": "ZSj5vw85QJrg"
      },
      "source": [
        "# Data Preprocessing"
      ]
    },
    {
      "cell_type": "code",
      "metadata": {
        "id": "JKMyqIPeNPPk",
        "outputId": "0e4b1885-63d5-426a-8962-6cd4a5af1d4a"
      },
      "source": [
        "path = r'TrainingData' # use your path to training data files to import\n",
        "all_x_files = glob.glob(path + \"/subject_00*_*__x.csv\")\n",
        "all_x_time_files = glob.glob(path + \"/subject_00*_*__x_time.csv\")\n",
        "all_y_files = glob.glob(path + \"/subject_00*_*__y.csv\")\n",
        "all_y_time_files = glob.glob(path + \"/subject_00*_*__y_time.csv\")\n",
        "li = []\n",
        "\n",
        "print(sorted(all_x_files))\n",
        "print(\"\\n\")\n",
        "print(sorted(all_x_time_files))\n",
        "print(\"\\n\")\n",
        "print(sorted(all_y_files))\n",
        "print(\"\\n\")\n",
        "print(sorted(all_y_time_files))"
      ],
      "execution_count": null,
      "outputs": [
        {
          "output_type": "stream",
          "text": [
            "['TrainingData/subject_001_01__x.csv', 'TrainingData/subject_001_02__x.csv', 'TrainingData/subject_001_03__x.csv', 'TrainingData/subject_001_04__x.csv', 'TrainingData/subject_001_05__x.csv', 'TrainingData/subject_001_06__x.csv', 'TrainingData/subject_001_07__x.csv', 'TrainingData/subject_001_08__x.csv', 'TrainingData/subject_002_01__x.csv', 'TrainingData/subject_002_02__x.csv', 'TrainingData/subject_002_03__x.csv', 'TrainingData/subject_002_04__x.csv', 'TrainingData/subject_002_05__x.csv', 'TrainingData/subject_003_01__x.csv', 'TrainingData/subject_003_02__x.csv', 'TrainingData/subject_003_03__x.csv', 'TrainingData/subject_004_01__x.csv', 'TrainingData/subject_004_02__x.csv', 'TrainingData/subject_005_01__x.csv', 'TrainingData/subject_005_02__x.csv', 'TrainingData/subject_005_03__x.csv', 'TrainingData/subject_006_01__x.csv', 'TrainingData/subject_006_02__x.csv', 'TrainingData/subject_006_03__x.csv', 'TrainingData/subject_007_01__x.csv', 'TrainingData/subject_007_02__x.csv', 'TrainingData/subject_007_03__x.csv', 'TrainingData/subject_007_04__x.csv', 'TrainingData/subject_008_01__x.csv']\n",
            "\n",
            "\n",
            "['TrainingData/subject_001_01__x_time.csv', 'TrainingData/subject_001_02__x_time.csv', 'TrainingData/subject_001_03__x_time.csv', 'TrainingData/subject_001_04__x_time.csv', 'TrainingData/subject_001_05__x_time.csv', 'TrainingData/subject_001_06__x_time.csv', 'TrainingData/subject_001_07__x_time.csv', 'TrainingData/subject_001_08__x_time.csv', 'TrainingData/subject_002_01__x_time.csv', 'TrainingData/subject_002_02__x_time.csv', 'TrainingData/subject_002_03__x_time.csv', 'TrainingData/subject_002_04__x_time.csv', 'TrainingData/subject_002_05__x_time.csv', 'TrainingData/subject_003_01__x_time.csv', 'TrainingData/subject_003_02__x_time.csv', 'TrainingData/subject_003_03__x_time.csv', 'TrainingData/subject_004_01__x_time.csv', 'TrainingData/subject_004_02__x_time.csv', 'TrainingData/subject_005_01__x_time.csv', 'TrainingData/subject_005_02__x_time.csv', 'TrainingData/subject_005_03__x_time.csv', 'TrainingData/subject_006_01__x_time.csv', 'TrainingData/subject_006_02__x_time.csv', 'TrainingData/subject_006_03__x_time.csv', 'TrainingData/subject_007_01__x_time.csv', 'TrainingData/subject_007_02__x_time.csv', 'TrainingData/subject_007_03__x_time.csv', 'TrainingData/subject_007_04__x_time.csv', 'TrainingData/subject_008_01__x_time.csv']\n",
            "\n",
            "\n",
            "['TrainingData/subject_001_01__y.csv', 'TrainingData/subject_001_02__y.csv', 'TrainingData/subject_001_03__y.csv', 'TrainingData/subject_001_04__y.csv', 'TrainingData/subject_001_05__y.csv', 'TrainingData/subject_001_06__y.csv', 'TrainingData/subject_001_07__y.csv', 'TrainingData/subject_001_08__y.csv', 'TrainingData/subject_002_01__y.csv', 'TrainingData/subject_002_02__y.csv', 'TrainingData/subject_002_03__y.csv', 'TrainingData/subject_002_04__y.csv', 'TrainingData/subject_002_05__y.csv', 'TrainingData/subject_003_01__y.csv', 'TrainingData/subject_003_02__y.csv', 'TrainingData/subject_003_03__y.csv', 'TrainingData/subject_004_01__y.csv', 'TrainingData/subject_004_02__y.csv', 'TrainingData/subject_005_01__y.csv', 'TrainingData/subject_005_02__y.csv', 'TrainingData/subject_005_03__y.csv', 'TrainingData/subject_006_01__y.csv', 'TrainingData/subject_006_02__y.csv', 'TrainingData/subject_006_03__y.csv', 'TrainingData/subject_007_01__y.csv', 'TrainingData/subject_007_02__y.csv', 'TrainingData/subject_007_03__y.csv', 'TrainingData/subject_007_04__y.csv', 'TrainingData/subject_008_01__y.csv']\n",
            "\n",
            "\n",
            "['TrainingData/subject_001_01__y_time.csv', 'TrainingData/subject_001_02__y_time.csv', 'TrainingData/subject_001_03__y_time.csv', 'TrainingData/subject_001_04__y_time.csv', 'TrainingData/subject_001_05__y_time.csv', 'TrainingData/subject_001_06__y_time.csv', 'TrainingData/subject_001_07__y_time.csv', 'TrainingData/subject_001_08__y_time.csv', 'TrainingData/subject_002_01__y_time.csv', 'TrainingData/subject_002_02__y_time.csv', 'TrainingData/subject_002_03__y_time.csv', 'TrainingData/subject_002_04__y_time.csv', 'TrainingData/subject_002_05__y_time.csv', 'TrainingData/subject_003_01__y_time.csv', 'TrainingData/subject_003_02__y_time.csv', 'TrainingData/subject_003_03__y_time.csv', 'TrainingData/subject_004_01__y_time.csv', 'TrainingData/subject_004_02__y_time.csv', 'TrainingData/subject_005_01__y_time.csv', 'TrainingData/subject_005_02__y_time.csv', 'TrainingData/subject_005_03__y_time.csv', 'TrainingData/subject_006_01__y_time.csv', 'TrainingData/subject_006_02__y_time.csv', 'TrainingData/subject_006_03__y_time.csv', 'TrainingData/subject_007_01__y_time.csv', 'TrainingData/subject_007_02__y_time.csv', 'TrainingData/subject_007_03__y_time.csv', 'TrainingData/subject_007_04__y_time.csv', 'TrainingData/subject_008_01__y_time.csv']\n"
          ],
          "name": "stdout"
        }
      ]
    },
    {
      "cell_type": "code",
      "metadata": {
        "id": "WeQSpkJgNPPk",
        "outputId": "81d16631-2ec0-4070-d62c-35712f30cc4b"
      },
      "source": [
        "gen_files=[]\n",
        "for filename in sorted(all_x_files):\n",
        "    gen= filename[:-7]\n",
        "    #print(filename,gen)\n",
        "    gen_files.append(gen)\n",
        "\n",
        "print(gen_files)\n",
        "subject_list=[]\n",
        "for filename in gen_files:\n",
        "    file=filename.split('/')[1]\n",
        "    print(file) \n",
        "    subject_list.append(file)"
      ],
      "execution_count": null,
      "outputs": [
        {
          "output_type": "stream",
          "text": [
            "['TrainingData/subject_001_01', 'TrainingData/subject_001_02', 'TrainingData/subject_001_03', 'TrainingData/subject_001_04', 'TrainingData/subject_001_05', 'TrainingData/subject_001_06', 'TrainingData/subject_001_07', 'TrainingData/subject_001_08', 'TrainingData/subject_002_01', 'TrainingData/subject_002_02', 'TrainingData/subject_002_03', 'TrainingData/subject_002_04', 'TrainingData/subject_002_05', 'TrainingData/subject_003_01', 'TrainingData/subject_003_02', 'TrainingData/subject_003_03', 'TrainingData/subject_004_01', 'TrainingData/subject_004_02', 'TrainingData/subject_005_01', 'TrainingData/subject_005_02', 'TrainingData/subject_005_03', 'TrainingData/subject_006_01', 'TrainingData/subject_006_02', 'TrainingData/subject_006_03', 'TrainingData/subject_007_01', 'TrainingData/subject_007_02', 'TrainingData/subject_007_03', 'TrainingData/subject_007_04', 'TrainingData/subject_008_01']\n",
            "subject_001_01\n",
            "subject_001_02\n",
            "subject_001_03\n",
            "subject_001_04\n",
            "subject_001_05\n",
            "subject_001_06\n",
            "subject_001_07\n",
            "subject_001_08\n",
            "subject_002_01\n",
            "subject_002_02\n",
            "subject_002_03\n",
            "subject_002_04\n",
            "subject_002_05\n",
            "subject_003_01\n",
            "subject_003_02\n",
            "subject_003_03\n",
            "subject_004_01\n",
            "subject_004_02\n",
            "subject_005_01\n",
            "subject_005_02\n",
            "subject_005_03\n",
            "subject_006_01\n",
            "subject_006_02\n",
            "subject_006_03\n",
            "subject_007_01\n",
            "subject_007_02\n",
            "subject_007_03\n",
            "subject_007_04\n",
            "subject_008_01\n"
          ],
          "name": "stdout"
        }
      ]
    },
    {
      "cell_type": "code",
      "metadata": {
        "id": "k2iuszjeNPPl",
        "outputId": "1cc8ca41-df34-45fd-d5ee-7fa5e552874f"
      },
      "source": [
        "subject_list"
      ],
      "execution_count": null,
      "outputs": [
        {
          "output_type": "execute_result",
          "data": {
            "text/plain": [
              "['subject_001_01',\n",
              " 'subject_001_02',\n",
              " 'subject_001_03',\n",
              " 'subject_001_04',\n",
              " 'subject_001_05',\n",
              " 'subject_001_06',\n",
              " 'subject_001_07',\n",
              " 'subject_001_08',\n",
              " 'subject_002_01',\n",
              " 'subject_002_02',\n",
              " 'subject_002_03',\n",
              " 'subject_002_04',\n",
              " 'subject_002_05',\n",
              " 'subject_003_01',\n",
              " 'subject_003_02',\n",
              " 'subject_003_03',\n",
              " 'subject_004_01',\n",
              " 'subject_004_02',\n",
              " 'subject_005_01',\n",
              " 'subject_005_02',\n",
              " 'subject_005_03',\n",
              " 'subject_006_01',\n",
              " 'subject_006_02',\n",
              " 'subject_006_03',\n",
              " 'subject_007_01',\n",
              " 'subject_007_02',\n",
              " 'subject_007_03',\n",
              " 'subject_007_04',\n",
              " 'subject_008_01']"
            ]
          },
          "metadata": {
            "tags": []
          },
          "execution_count": 76
        }
      ]
    },
    {
      "cell_type": "markdown",
      "metadata": {
        "id": "eViCPba_QeR7"
      },
      "source": [
        "## Making individual subject data files\n",
        "\n",
        "Merge the x_meas and x_time file based on the time value\n",
        "Merge the y_time and y_label file based on the time value"
      ]
    },
    {
      "cell_type": "code",
      "metadata": {
        "id": "VEVLeuRINPPl"
      },
      "source": [
        "#Creating x meas and time csv and y label and time csv\n",
        "for filename in gen_files:\n",
        "    subject=filename.split('/')[1]\n",
        "    df1=pd.read_csv(filename+'__x.csv',  names =['acc_x', 'acc_y', 'acc_z', 'gyro_x', 'gyro_y', 'gyro_z'])\n",
        "    df2=pd.read_csv(filename+'__x_time.csv', names =['time'])\n",
        "    df1['time']=df2['time']\n",
        "    df1['time']=df1['time'].apply(lambda x:int(x*100)/100)\n",
        "    #df1['time']=df1['time'].apply(lambda x:format{x,\".2f\"})\n",
        "    df1['time']=df1['time'].astype(str)\n",
        "    #df1['time'] = df1['time'].astype(str).str.encode('utf-8')\n",
        "    df3=pd.read_csv(filename+'__y.csv', names =['label'])\n",
        "    df4=pd.read_csv(filename+'__y_time.csv', names =['time'])\n",
        "    df3['time']=df4['time']\n",
        "    df3['time']=df3['time'].astype(str)\n",
        "    #df3['time'] = df3['time'].astype(str).str.encode('utf-8')\n",
        "    df1.to_csv('ProcessData/'+subject+'x_meas_time.csv',index=False)\n",
        "    df3.to_csv('ProcessData/'+subject+'y_label_time.csv',index=False)"
      ],
      "execution_count": null,
      "outputs": []
    },
    {
      "cell_type": "markdown",
      "metadata": {
        "id": "wupjwJKzNPPl"
      },
      "source": [
        "## Join x and y data on each subject and then interpolate the labels\n",
        "\n",
        "Merge the x and y_data files.\n",
        "After merging, we will observe that only 1/4th of total dataset is labelled. hence, we use interplolation technique to fill the other labels. "
      ]
    },
    {
      "cell_type": "code",
      "metadata": {
        "id": "NsP2HLDhNPPm"
      },
      "source": [
        "#Creating each subject final csv and interpolate the data \n",
        "for subject in subject_list:\n",
        "    df1 = pd.read_csv('ProcessData/'+subject+'x_meas_time.csv')\n",
        "    df2 = pd.read_csv('ProcessData/'+subject+'y_label_time.csv')\n",
        "    df3 = pd.merge(df1, df2, on='time', how='outer')\n",
        "    #print(df3)\n",
        "    df3.to_csv('Subject/'+subject+'final.csv',index=False)\n",
        "    df3['label']=df3['label'].interpolate(method='pad')\n",
        "    df4 = df3.loc[df3['time']!=0]\n",
        "    df4.to_csv('Interpolated/'+subject+'_interpolated.csv',index=False)"
      ],
      "execution_count": null,
      "outputs": []
    },
    {
      "cell_type": "code",
      "metadata": {
        "id": "3kqSxTu1NPPm",
        "outputId": "bc847264-d5e2-4d1f-e72c-28a2badacee4"
      },
      "source": [
        "#checking the shape of the csv created\n",
        "df3 = pd.read_csv('TrainingData/subject_001_01__x_time.csv')\n",
        "df4 = pd.read_csv('TrainingData/subject_001_01__x.csv')\n",
        "df5 = pd.read_csv('TrainingData/subject_001_01__y_time.csv')\n",
        "df6 = pd.read_csv('TrainingData/subject_001_01__y.csv')\n",
        "print(df3.shape, df4.shape, df5.shape, df6.shape)\n",
        "df1 = pd.read_csv('ProcessData/subject_001_01x_meas_time.csv')\n",
        "df2 = pd.read_csv('ProcessData/subject_001_01y_label_time.csv')\n",
        "print(df1.shape)\n",
        "print(df2.shape)\n",
        "df3=pd.read_csv('Subject/subject_001_01final.csv')\n",
        "print(df3.shape)\n",
        "df3=pd.read_csv('Interpolated/subject_001_01_interpolated.csv')\n",
        "print(df3.shape)"
      ],
      "execution_count": null,
      "outputs": [
        {
          "output_type": "stream",
          "text": [
            "(37889, 1) (37889, 6) (9472, 1) (9472, 1)\n",
            "(37890, 7)\n",
            "(9473, 2)\n",
            "(37890, 8)\n",
            "(37889, 8)\n"
          ],
          "name": "stdout"
        }
      ]
    },
    {
      "cell_type": "markdown",
      "metadata": {
        "id": "8WHyREUONPPn"
      },
      "source": [
        "## Merge all individual subject interpolated csv files to single file\n",
        "\n",
        "The interpolated_combined.csv file will be our master file for training and validation."
      ]
    },
    {
      "cell_type": "code",
      "metadata": {
        "id": "AYO6E44xNPPn",
        "outputId": "ca64d857-1509-42aa-c185-2eeb83b18d45"
      },
      "source": [
        "li=[]\n",
        "path = r'Interpolated' # use your path\n",
        "all_files = glob.glob(path + \"/*.csv\")\n",
        "for files in sorted(all_files):\n",
        "    print(files)\n",
        "    df = pd.read_csv(files, names =['acc_x','acc_y','acc_z','gyro_x','gyro_y','gyro_z','time','label'])\n",
        "    li.append(df)\n",
        "    \n",
        "df1 = pd.concat(li, axis=0, ignore_index=True)\n",
        "df2 = df1.loc[df1['acc_x']!='acc_x']\n",
        "print(df1)\n",
        "df2.to_csv('Interpolated_combined.csv',index=False)"
      ],
      "execution_count": null,
      "outputs": [
        {
          "output_type": "stream",
          "text": [
            "Interpolated/subject_001_01_interpolated.csv\n",
            "Interpolated/subject_001_02_interpolated.csv\n"
          ],
          "name": "stdout"
        },
        {
          "output_type": "stream",
          "text": [
            "/Users/himanshugupta/opt/anaconda3/lib/python3.8/site-packages/IPython/core/interactiveshell.py:3071: DtypeWarning: Columns (0,1,2,3,4,5,6,7) have mixed types.Specify dtype option on import or set low_memory=False.\n",
            "  has_raised = await self.run_ast_nodes(code_ast.body, cell_name,\n"
          ],
          "name": "stderr"
        },
        {
          "output_type": "stream",
          "text": [
            "Interpolated/subject_001_03_interpolated.csv\n",
            "Interpolated/subject_001_04_interpolated.csv\n",
            "Interpolated/subject_001_05_interpolated.csv\n",
            "Interpolated/subject_001_06_interpolated.csv\n",
            "Interpolated/subject_001_07_interpolated.csv\n",
            "Interpolated/subject_001_08_interpolated.csv\n",
            "Interpolated/subject_002_01_interpolated.csv\n",
            "Interpolated/subject_002_02_interpolated.csv\n",
            "Interpolated/subject_002_03_interpolated.csv\n",
            "Interpolated/subject_002_04_interpolated.csv\n",
            "Interpolated/subject_002_05_interpolated.csv\n",
            "Interpolated/subject_003_01_interpolated.csv\n",
            "Interpolated/subject_003_02_interpolated.csv\n",
            "Interpolated/subject_003_03_interpolated.csv\n",
            "Interpolated/subject_004_01_interpolated.csv\n",
            "Interpolated/subject_004_02_interpolated.csv\n",
            "Interpolated/subject_005_01_interpolated.csv\n",
            "Interpolated/subject_005_02_interpolated.csv\n",
            "Interpolated/subject_005_03_interpolated.csv\n",
            "Interpolated/subject_006_01_interpolated.csv\n",
            "Interpolated/subject_006_02_interpolated.csv\n",
            "Interpolated/subject_006_03_interpolated.csv\n",
            "Interpolated/subject_007_01_interpolated.csv\n",
            "Interpolated/subject_007_02_interpolated.csv\n",
            "Interpolated/subject_007_03_interpolated.csv\n",
            "Interpolated/subject_007_04_interpolated.csv\n",
            "Interpolated/subject_008_01_interpolated.csv\n",
            "                      acc_x              acc_y                acc_z  \\\n",
            "0                     acc_x              acc_y                acc_z   \n",
            "1                   4.18692           8.344455             2.908057   \n",
            "2         4.544637000000002           8.408659                 2.89   \n",
            "3        4.8493080000000015           8.411614             2.900692   \n",
            "4                   4.50919  8.118649000000001             2.847298   \n",
            "...                     ...                ...                  ...   \n",
            "1341641            2.072244           8.908878                 -3.5   \n",
            "1341642            2.085123           8.915123                -3.52   \n",
            "1341643            2.083774               8.91            -3.538981   \n",
            "1341644            2.111447           8.908553            -3.535724   \n",
            "1341645             2.08773                8.9  -3.5188650000000004   \n",
            "\n",
            "               gyro_x        gyro_y        gyro_z     time  label  \n",
            "0              gyro_x        gyro_y        gyro_z     time  label  \n",
            "1         0.005770759  -0.004479538  -0.003345031     0.02    0.0  \n",
            "2         0.007967429    0.02241187   0.001158524     0.05    0.0  \n",
            "3          0.02777778   -0.01067026   -0.01422302     0.07    0.0  \n",
            "4          0.02157696   -0.04549827   -0.02111111      0.1    0.0  \n",
            "...               ...           ...           ...      ...    ...  \n",
            "1341641   0.001350761   0.001190994   0.001031228  1203.32    0.0  \n",
            "1341642   0.001917847  -0.001146575           0.0  1203.34    0.0  \n",
            "1341643  -0.002015218  -0.004099438    0.00104211  1203.37    0.0  \n",
            "1341644  0.0001831479  -0.001672778   0.001855926   1203.4    0.0  \n",
            "1341645  5.186139e-05  -0.001266695           0.0  1203.42    0.0  \n",
            "\n",
            "[1341646 rows x 8 columns]\n"
          ],
          "name": "stdout"
        }
      ]
    },
    {
      "cell_type": "code",
      "metadata": {
        "id": "sYyUaIi4NPPo",
        "outputId": "083c0848-df11-4413-8d92-c5a1b36d722c"
      },
      "source": [
        "# Checking the data imbalance\n",
        "df=pd.read_csv('Interpolated/subject_001_01_interpolated.csv')\n",
        "walking = df[df.label==0].count()[0]\n",
        "downstairs = df[df.label==1].count()[0]\n",
        "upstairs = df[df.label==2].count()[0]\n",
        "grass = df[df.label==3].count()[0]\n",
        "print(walking, downstairs,upstairs, grass)"
      ],
      "execution_count": null,
      "outputs": [
        {
          "output_type": "stream",
          "text": [
            "25773 2844 3152 6120\n"
          ],
          "name": "stdout"
        }
      ]
    },
    {
      "cell_type": "code",
      "metadata": {
        "id": "bw9OXUySNPPo",
        "outputId": "d2ba0e68-82ee-4c95-9405-ff8ea6730b01"
      },
      "source": [
        "# The data imbalance graph for subject 1\n",
        "import matplotlib.pyplot as plt\n",
        "\n",
        "text = [\"standing / walking\", \"going downstairs\",\"going upstairs\", \"walking on grass\"]\n",
        "label = [walking, downstairs,upstairs, grass]\n",
        "plt.style.use('seaborn')\n",
        "plt.figure(figsize=(8,6),dpi=100)\n",
        "for bar in range(0,4):\n",
        "    plt.bar(text[bar],label[bar])"
      ],
      "execution_count": null,
      "outputs": [
        {
          "output_type": "display_data",
          "data": {
            "image/png": "[encoded data removed]",
            "text/plain": [
              "<Figure size 800x600 with 1 Axes>"
            ]
          },
          "metadata": {
            "tags": []
          }
        }
      ]
    },
    {
      "cell_type": "code",
      "metadata": {
        "id": "CcwY6hD5NPPo",
        "outputId": "bf30b53f-8051-4789-8678-7fae427117c5"
      },
      "source": [
        "# The data imbalance graph for entire dataset consisting of all subjects\n",
        "df=pd.read_csv('Interpolated_combined.csv')\n",
        "walking_full = df[df.label==0].count()[0]\n",
        "downstairs_full = df[df.label==1].count()[0]\n",
        "upstairs_full = df[df.label==2].count()[0]\n",
        "grass_full = df[df.label==3].count()[0]\n",
        "print(walking_full, downstairs_full,upstairs_full, grass_full)\n",
        "\n",
        "text = [\"standing / walking\", \"going downstairs\",\"going upstairs\", \"walking on grass\"]\n",
        "label = [walking_full, downstairs_full,upstairs_full, grass_full]\n",
        "plt.style.use('seaborn')\n",
        "plt.figure(figsize=(8,6),dpi=100)\n",
        "for bar in range(0,4):\n",
        "    plt.bar(text[bar],label[bar])"
      ],
      "execution_count": null,
      "outputs": [
        {
          "output_type": "stream",
          "text": [
            "1006897 55216 73068 206436\n"
          ],
          "name": "stdout"
        },
        {
          "output_type": "display_data",
          "data": {
            "image/png": "[encoded data removed]",
            "text/plain": [
              "<Figure size 800x600 with 1 Axes>"
            ]
          },
          "metadata": {
            "tags": []
          }
        }
      ]
    },
    {
      "cell_type": "code",
      "metadata": {
        "id": "_3qeOVsiNPPp",
        "outputId": "4d1055c2-7706-4981-a4eb-415315b9e74f"
      },
      "source": [
        "y_train = df.label\n",
        "x_train= df.drop('label', axis=1)\n",
        "print(y_train)\n",
        "print(\"\\n~~~~~~~\")\n",
        "print(x_train)"
      ],
      "execution_count": null,
      "outputs": [
        {
          "output_type": "stream",
          "text": [
            "0          0.0\n",
            "1          0.0\n",
            "2          0.0\n",
            "3          0.0\n",
            "4          0.0\n",
            "          ... \n",
            "1341612    0.0\n",
            "1341613    0.0\n",
            "1341614    0.0\n",
            "1341615    0.0\n",
            "1341616    0.0\n",
            "Name: label, Length: 1341617, dtype: float64\n",
            "\n",
            "~~~~~~~\n",
            "            acc_x     acc_y     acc_z    gyro_x    gyro_y    gyro_z     time\n",
            "0        4.186920  8.344455  2.908057  0.005771 -0.004480 -0.003345     0.02\n",
            "1        4.544637  8.408659  2.890000  0.007967  0.022412  0.001159     0.05\n",
            "2        4.849308  8.411614  2.900692  0.027778 -0.010670 -0.014223     0.07\n",
            "3        4.509190  8.118649  2.847298  0.021577 -0.045498 -0.021111     0.10\n",
            "4        4.226515  8.273807  2.851742  0.012534  0.000445 -0.016830     0.12\n",
            "...           ...       ...       ...       ...       ...       ...      ...\n",
            "1341612  2.072244  8.908878 -3.500000  0.001351  0.001191  0.001031  1203.32\n",
            "1341613  2.085123  8.915123 -3.520000  0.001918 -0.001147  0.000000  1203.34\n",
            "1341614  2.083774  8.910000 -3.538981 -0.002015 -0.004099  0.001042  1203.37\n",
            "1341615  2.111447  8.908553 -3.535724  0.000183 -0.001673  0.001856  1203.40\n",
            "1341616  2.087730  8.900000 -3.518865  0.000052 -0.001267  0.000000  1203.42\n",
            "\n",
            "[1341617 rows x 7 columns]\n"
          ],
          "name": "stdout"
        }
      ]
    },
    {
      "cell_type": "code",
      "metadata": {
        "id": "Ye0FVQ9SNPPp",
        "outputId": "2d49ed72-b75b-4a73-a027-9c69097b7805"
      },
      "source": [
        "conda install -c conda-forge imbalanced-learn"
      ],
      "execution_count": null,
      "outputs": [
        {
          "output_type": "stream",
          "text": [
            "Collecting package metadata (current_repodata.json): done\n",
            "Solving environment: failed with initial frozen solve. Retrying with flexible solve.\n",
            "Solving environment: failed with repodata from current_repodata.json, will retry with next repodata source.\n",
            "Collecting package metadata (repodata.json): done\n",
            "Solving environment: done\n",
            "\n",
            "\n",
            "==> WARNING: A newer version of conda exists. <==\n",
            "  current version: 4.8.3\n",
            "  latest version: 4.9.2\n",
            "\n",
            "Please update conda by running\n",
            "\n",
            "    $ conda update -n base -c defaults conda\n",
            "\n",
            "\n",
            "\n",
            "## Package Plan ##\n",
            "\n",
            "  environment location: /Users/himanshugupta/opt/anaconda3\n",
            "\n",
            "  added / updated specs:\n",
            "    - imbalanced-learn\n",
            "\n",
            "\n",
            "The following packages will be downloaded:\n",
            "\n",
            "    package                    |            build\n",
            "    ---------------------------|-----------------\n",
            "    conda-4.9.2                |   py38h50d1736_0         3.1 MB  conda-forge\n",
            "    imbalanced-learn-0.7.0     |             py_1          97 KB  conda-forge\n",
            "    python_abi-3.8             |           1_cp38           4 KB  conda-forge\n",
            "    ------------------------------------------------------------\n",
            "                                           Total:         3.2 MB\n",
            "\n",
            "The following NEW packages will be INSTALLED:\n",
            "\n",
            "  imbalanced-learn   conda-forge/noarch::imbalanced-learn-0.7.0-py_1\n",
            "  python_abi         conda-forge/osx-64::python_abi-3.8-1_cp38\n",
            "\n",
            "The following packages will be UPDATED:\n",
            "\n",
            "  conda                       pkgs/main::conda-4.8.3-py38_0 --> conda-forge::conda-4.9.2-py38h50d1736_0\n",
            "\n",
            "\n",
            "\n",
            "Downloading and Extracting Packages\n",
            "conda-4.9.2          | 3.1 MB    | ##################################### | 100% \n",
            "imbalanced-learn-0.7 | 97 KB     | ##################################### | 100% \n",
            "python_abi-3.8       | 4 KB      | ##################################### | 100% \n",
            "Preparing transaction: done\n",
            "Verifying transaction: done\n",
            "Executing transaction: done\n",
            "\n",
            "Note: you may need to restart the kernel to use updated packages.\n"
          ],
          "name": "stdout"
        }
      ]
    },
    {
      "cell_type": "markdown",
      "metadata": {
        "id": "ZShjzbf4NPPp"
      },
      "source": [
        "## Using SMOTE to balance the minority classes (1.0, 2.0, 3.0)"
      ]
    },
    {
      "cell_type": "code",
      "metadata": {
        "id": "z-0ajmELNPPp"
      },
      "source": [
        "from imblearn.over_sampling import SMOTE \n",
        "from collections import Counter\n"
      ],
      "execution_count": null,
      "outputs": []
    },
    {
      "cell_type": "code",
      "metadata": {
        "id": "bCdAd5ZfNPPq",
        "outputId": "3df76393-25ad-4343-b086-cb59c5cc20e7"
      },
      "source": [
        "county = Counter(y_train)\n",
        "print(county)"
      ],
      "execution_count": null,
      "outputs": [
        {
          "output_type": "stream",
          "text": [
            "Counter({0.0: 1006897, 3.0: 206436, 2.0: 73068, 1.0: 55216})\n"
          ],
          "name": "stdout"
        }
      ]
    },
    {
      "cell_type": "code",
      "metadata": {
        "id": "Ww9kpLZNNPPq",
        "outputId": "704ea505-9f91-43c8-e797-4e4fc89a262c"
      },
      "source": [
        "sm = SMOTE(random_state=23)\n",
        "x_train_sm, y_train_sm = sm.fit_resample(x_train, y_train)\n",
        "print(len(x_train_sm), len(y_train_sm))\n",
        "\n",
        "county_sm = Counter(y_train_sm)\n",
        "print(county_sm)"
      ],
      "execution_count": null,
      "outputs": [
        {
          "output_type": "stream",
          "text": [
            "4027588 4027588\n",
            "Counter({0.0: 1006897, 1.0: 1006897, 2.0: 1006897, 3.0: 1006897})\n"
          ],
          "name": "stdout"
        }
      ]
    },
    {
      "cell_type": "markdown",
      "metadata": {
        "id": "O-4TJu9oNPPq"
      },
      "source": [
        "## Split into training and validation dataset"
      ]
    },
    {
      "cell_type": "code",
      "metadata": {
        "id": "EUXaBQptNPPq"
      },
      "source": [
        "from sklearn.model_selection import train_test_split\n",
        "from sklearn import metrics\n",
        "import numpy as np"
      ],
      "execution_count": null,
      "outputs": []
    },
    {
      "cell_type": "code",
      "metadata": {
        "id": "sw61Y84BNPPr"
      },
      "source": [
        "x_train,x_val,y_train,y_val=train_test_split(x_train_sm, y_train_sm, test_size=0.2,random_state=123)"
      ],
      "execution_count": null,
      "outputs": []
    },
    {
      "cell_type": "code",
      "metadata": {
        "id": "Yfowpy2HNPPr",
        "outputId": "091daa72-89ff-4772-c165-3b4e6257bbfc"
      },
      "source": [
        "print(len(x_train), len(y_train))\n",
        "print(len(x_val), len(y_val))"
      ],
      "execution_count": null,
      "outputs": [
        {
          "output_type": "stream",
          "text": [
            "3222070 3222070\n",
            "805518 805518\n"
          ],
          "name": "stdout"
        }
      ]
    },
    {
      "cell_type": "markdown",
      "metadata": {
        "id": "DRoMzft5NPPr"
      },
      "source": [
        "## Random Forest"
      ]
    },
    {
      "cell_type": "code",
      "metadata": {
        "id": "7-T_PemMNPPr",
        "outputId": "718a1534-c4d4-41d3-970a-46e6a63fb9d4"
      },
      "source": [
        "#Training the Random Forest model on training data\n",
        "from sklearn.ensemble import RandomForestClassifier\n",
        "\n",
        "Random_F_model = RandomForestClassifier(n_estimators=20, random_state=0)\n",
        "Random_F_model.fit(x_train, y_train)"
      ],
      "execution_count": null,
      "outputs": [
        {
          "output_type": "execute_result",
          "data": {
            "text/plain": [
              "RandomForestClassifier(n_estimators=20, random_state=0)"
            ]
          },
          "metadata": {
            "tags": []
          },
          "execution_count": 194
        }
      ]
    },
    {
      "cell_type": "code",
      "metadata": {
        "id": "I8EKeIoyNPPs"
      },
      "source": [
        "import pickle\n",
        "\n",
        "saved_model_RF = 'RF_model_smote.sav'\n",
        "pickle.dump(Random_F_model, open(saved_model_RF, 'wb'))"
      ],
      "execution_count": null,
      "outputs": []
    },
    {
      "cell_type": "code",
      "metadata": {
        "id": "HZY05x1hNPPs"
      },
      "source": [
        "y_pred = Random_F_model.predict(x_val)\n"
      ],
      "execution_count": null,
      "outputs": []
    },
    {
      "cell_type": "code",
      "metadata": {
        "id": "kj3jENutNPPs",
        "outputId": "927ac305-7752-49ba-f269-cddb17c88fe5"
      },
      "source": [
        "#print(type(y_pred))\n",
        "#print (type(y_val))\n",
        "print('F1 Score:', metrics.f1_score(y_val, y_pred, average='macro'))\n",
        "print('Accuracy Score:', metrics.accuracy_score(y_val, y_pred))\n",
        "print('Precision score: ', metrics.precision_score(y_val, y_pred, average='macro'))\n",
        "print('Recall score: ', metrics.recall_score(y_val, y_pred, average='macro'))\n",
        "print('Accuracy Score:', metrics.accuracy_score(y_val, y_pred))\n",
        "print('Confusion Matrix:', metrics.confusion_matrix(y_val, y_pred))\n",
        "print('Mean Absolute Error:', metrics.mean_absolute_error(y_val, y_pred))\n",
        "print('Mean Squared Error:', metrics.mean_squared_error(y_val, y_pred))\n",
        "print('Root Mean Squared Error:', np.sqrt(metrics.mean_squared_error(y_val, y_pred)))"
      ],
      "execution_count": null,
      "outputs": [
        {
          "output_type": "stream",
          "text": [
            "F1 Score: 0.9097797768751095\n",
            "Accuracy Score: 0.9108052209882337\n",
            "Precision score:  0.9099234360466042\n",
            "Recall score:  0.9107539838492922\n",
            "Accuracy Score: 0.9108052209882337\n",
            "Confusion Matrix: [[161095   7381   6098  26607]\n",
            " [  3229 195674   1023   1360]\n",
            " [  2317    783 197676    951]\n",
            " [ 17306   2417   2376 179225]]\n",
            "Mean Absolute Error: 0.2133608435813973\n",
            "Mean Squared Error: 0.5707234351063539\n",
            "Root Mean Squared Error: 0.7554623982081133\n"
          ],
          "name": "stdout"
        }
      ]
    },
    {
      "cell_type": "markdown",
      "metadata": {
        "id": "EGBi13RQNPPs"
      },
      "source": [
        "## KNN"
      ]
    },
    {
      "cell_type": "code",
      "metadata": {
        "id": "ZawA0P6mNPPt",
        "outputId": "c7d87669-5162-471f-dc88-0455f855661f"
      },
      "source": [
        "from sklearn.neighbors import KNeighborsClassifier\n",
        "KNN_Classifier = KNeighborsClassifier(n_neighbors=10)\n",
        "KNN_Classifier.fit(x_train, y_train)"
      ],
      "execution_count": null,
      "outputs": [
        {
          "output_type": "execute_result",
          "data": {
            "text/plain": [
              "KNeighborsClassifier(n_neighbors=10)"
            ]
          },
          "metadata": {
            "tags": []
          },
          "execution_count": 197
        }
      ]
    },
    {
      "cell_type": "code",
      "metadata": {
        "id": "RhQwpB0CNPPt"
      },
      "source": [
        "import pickle\n",
        "\n",
        "saved_model_KNN = 'KNN_smote.sav'\n",
        "pickle.dump(KNN_Classifier, open(saved_model_KNN, 'wb'))"
      ],
      "execution_count": null,
      "outputs": []
    },
    {
      "cell_type": "code",
      "metadata": {
        "id": "txgXyqdGNPPt",
        "outputId": "c6b99ecb-f5dc-4af3-89c6-d83730c13ff9"
      },
      "source": [
        "y_pred_KNN = KNN_Classifier.predict(x_val)\n",
        "print('F1 score: ', metrics.f1_score(y_val, y_pred_KNN, average='macro'))"
      ],
      "execution_count": null,
      "outputs": [
        {
          "output_type": "stream",
          "text": [
            "F1 score:  0.8787054499267164\n"
          ],
          "name": "stdout"
        }
      ]
    },
    {
      "cell_type": "code",
      "metadata": {
        "id": "z6R77jKKNPPu",
        "outputId": "94dade44-e027-4482-9d97-e54a37acd8c8"
      },
      "source": [
        "print('F1 Score:', metrics.f1_score(y_val, y_pred_KNN, average='macro'))\n",
        "print('Accuracy Score:', metrics.accuracy_score(y_val, y_pred_KNN))\n",
        "print('Precision score: ', metrics.precision_score(y_val, y_pred_KNN, average='macro'))\n",
        "print('Recall score: ', metrics.recall_score(y_val, y_pred_KNN, average='macro'))\n",
        "print('Accuracy Score:', metrics.accuracy_score(y_val, y_pred_KNN))\n",
        "print('Confusion Matrix:', metrics.confusion_matrix(y_val, y_pred_KNN))\n",
        "print('Mean Absolute Error:', metrics.mean_absolute_error(y_val, y_pred_KNN))\n",
        "print('Mean Squared Error:', metrics.mean_squared_error(y_val, y_pred_KNN))\n",
        "print('Root Mean Squared Error:', np.sqrt(metrics.mean_squared_error(y_val, y_pred_KNN)))"
      ],
      "execution_count": null,
      "outputs": [
        {
          "output_type": "stream",
          "text": [
            "F1 Score: 0.8787054499267164\n",
            "Accuracy Score: 0.8847909047345931\n",
            "Precision score:  0.8888437453974138\n",
            "Recall score:  0.884697604791054\n",
            "Accuracy Score: 0.8847909047345931\n",
            "Confusion Matrix: [[128531  17204  12804  42642]\n",
            " [   412 200167    270    437]\n",
            " [   381    434 200579    333]\n",
            " [ 10128   4175   3583 183438]]\n",
            "Mean Absolute Error: 0.2683242335987526\n",
            "Mean Squared Error: 0.7055757909817036\n",
            "Root Mean Squared Error: 0.8399855897464573\n"
          ],
          "name": "stdout"
        }
      ]
    },
    {
      "cell_type": "markdown",
      "metadata": {
        "id": "nTwH9EtTNPPu"
      },
      "source": [
        "## Random Forest with estimator 40"
      ]
    },
    {
      "cell_type": "code",
      "metadata": {
        "id": "tlrFVtqcNPPu",
        "outputId": "6cc1b964-c585-4fe6-b220-54df16070ba9"
      },
      "source": [
        "#Training the Random Forest model on training data\n",
        "from sklearn.ensemble import RandomForestClassifier\n",
        "\n",
        "Random_F_model_40 = RandomForestClassifier(n_estimators=40, random_state=0)\n",
        "Random_F_model_40.fit(x_train, y_train)"
      ],
      "execution_count": null,
      "outputs": [
        {
          "output_type": "execute_result",
          "data": {
            "text/plain": [
              "RandomForestClassifier(n_estimators=40, random_state=0)"
            ]
          },
          "metadata": {
            "tags": []
          },
          "execution_count": 211
        }
      ]
    },
    {
      "cell_type": "code",
      "metadata": {
        "id": "Q8oFapZANPPu"
      },
      "source": [
        "x_test_009 = pd.read_csv('TestProcessData/subject_009_01final_inner.csv')\n",
        "x_test_010 = pd.read_csv('TestProcessData/subject_010_01final_inner.csv')\n",
        "x_test_011 = pd.read_csv('TestProcessData/subject_011_01final_inner.csv')\n",
        "x_test_012 = pd.read_csv('TestProcessData/subject_012_01final_inner.csv')\n",
        "\n",
        "y_pred_RF_009 = Random_F_model_40.predict(x_test_009)\n",
        "y_pred_RF_010 = Random_F_model_40.predict(x_test_010)\n",
        "y_pred_RF_011 = Random_F_model_40.predict(x_test_011)\n",
        "y_pred_RF_012 = Random_F_model_40.predict(x_test_012)"
      ],
      "execution_count": null,
      "outputs": []
    },
    {
      "cell_type": "code",
      "metadata": {
        "id": "4b-FIf1nNPPv"
      },
      "source": [
        "np.savetxt(\"TestResults/RF40/subject_009_01__y_prediction.csv\", y_pred_RF_009, delimiter=\",\")\n",
        "np.savetxt(\"TestResults/RF40/subject_010_01__y_prediction.csv\", y_pred_RF_010, delimiter=\",\")\n",
        "np.savetxt(\"TestResults/RF40/subject_011_01__y_prediction.csv\", y_pred_RF_011, delimiter=\",\")\n",
        "np.savetxt(\"TestResults/RF40/subject_012_01__y_prediction.csv\", y_pred_RF_012, delimiter=\",\")"
      ],
      "execution_count": null,
      "outputs": []
    },
    {
      "cell_type": "code",
      "metadata": {
        "id": "rbMB3lCoNPPv"
      },
      "source": [
        "y_pred_RF40 = Random_F_model_40.predict(x_val)"
      ],
      "execution_count": null,
      "outputs": []
    },
    {
      "cell_type": "code",
      "metadata": {
        "id": "rk98AnDVNPPv",
        "outputId": "64ce18ed-ac91-4bb4-b73e-397a9c3196fb"
      },
      "source": [
        "print('F1 Score:', metrics.f1_score(y_val, y_pred_RF40, average='macro'))\n",
        "print('Accuracy Score:', metrics.accuracy_score(y_val, y_pred_RF40))\n",
        "print('Precision score: ', metrics.precision_score(y_val, y_pred_RF40, average='macro'))\n",
        "print('Recall score: ', metrics.recall_score(y_val, y_pred_RF40, average='macro'))\n",
        "print('Accuracy Score:', metrics.accuracy_score(y_val, y_pred_RF40))\n",
        "print('Confusion Matrix:', metrics.confusion_matrix(y_val, y_pred_RF40))\n",
        "print('Mean Absolute Error:', metrics.mean_absolute_error(y_val, y_pred_RF40))\n",
        "print('Mean Squared Error:', metrics.mean_squared_error(y_val, y_pred_RF40))\n",
        "print('Root Mean Squared Error:', np.sqrt(metrics.mean_squared_error(y_val, y_pred_RF40)))"
      ],
      "execution_count": null,
      "outputs": [
        {
          "output_type": "stream",
          "text": [
            "F1 Score: 0.915856516937698\n",
            "Accuracy Score: 0.9169279891945308\n",
            "Precision score:  0.9164699744704151\n",
            "Recall score:  0.9168777622074374\n",
            "Accuracy Score: 0.9169279891945308\n",
            "Confusion Matrix: [[161565   7205   6074  26337]\n",
            " [  2723 196315    986   1262]\n",
            " [  1943    658 198177    949]\n",
            " [ 14475   2154   2150 182545]]\n",
            "Mean Absolute Error: 0.19859643111637482\n",
            "Mean Squared Error: 0.5309763406900901\n",
            "Root Mean Squared Error: 0.7286812339357246\n"
          ],
          "name": "stdout"
        }
      ]
    },
    {
      "cell_type": "markdown",
      "metadata": {
        "id": "IOunMXd5NPPv"
      },
      "source": [
        "## Random Forest with estimator 60"
      ]
    },
    {
      "cell_type": "code",
      "metadata": {
        "id": "0N6ueSgbNPPw",
        "outputId": "c476e47e-50f9-4863-e172-f0d9323901bc"
      },
      "source": [
        "#Training the Random Forest model on training data\n",
        "from sklearn.ensemble import RandomForestClassifier\n",
        "\n",
        "Random_F_model_60 = RandomForestClassifier(n_estimators=60, random_state=0)\n",
        "Random_F_model_60.fit(x_train, y_train)"
      ],
      "execution_count": null,
      "outputs": [
        {
          "output_type": "execute_result",
          "data": {
            "text/plain": [
              "RandomForestClassifier(n_estimators=60, random_state=0)"
            ]
          },
          "metadata": {
            "tags": []
          },
          "execution_count": 214
        }
      ]
    },
    {
      "cell_type": "code",
      "metadata": {
        "id": "VXlM9m48NPPw"
      },
      "source": [
        "x_test_009 = pd.read_csv('TestProcessData/subject_009_01final_inner.csv')\n",
        "x_test_010 = pd.read_csv('TestProcessData/subject_010_01final_inner.csv')\n",
        "x_test_011 = pd.read_csv('TestProcessData/subject_011_01final_inner.csv')\n",
        "x_test_012 = pd.read_csv('TestProcessData/subject_012_01final_inner.csv')\n",
        "\n",
        "y_pred_RF60_009 = Random_F_model_60.predict(x_test_009)\n",
        "y_pred_RF60_010 = Random_F_model_60.predict(x_test_010)\n",
        "y_pred_RF60_011 = Random_F_model_60.predict(x_test_011)\n",
        "y_pred_RF60_012 = Random_F_model_60.predict(x_test_012)"
      ],
      "execution_count": null,
      "outputs": []
    },
    {
      "cell_type": "code",
      "metadata": {
        "id": "ecfK8aujNPPw"
      },
      "source": [
        "np.savetxt(\"TestResults/RF60/subject_009_01__y_prediction.csv\", y_pred_RF60_009, delimiter=\",\")\n",
        "np.savetxt(\"TestResults/RF60/subject_010_01__y_prediction.csv\", y_pred_RF60_010, delimiter=\",\")\n",
        "np.savetxt(\"TestResults/RF60/subject_011_01__y_prediction.csv\", y_pred_RF60_011, delimiter=\",\")\n",
        "np.savetxt(\"TestResults/RF60/subject_012_01__y_prediction.csv\", y_pred_RF60_012, delimiter=\",\")"
      ],
      "execution_count": null,
      "outputs": []
    },
    {
      "cell_type": "code",
      "metadata": {
        "id": "6cZvTwOlNPPw"
      },
      "source": [
        "y_pred_RF60 = Random_F_model_60.predict(x_val)"
      ],
      "execution_count": null,
      "outputs": []
    },
    {
      "cell_type": "code",
      "metadata": {
        "id": "fLFezo-aNPPx",
        "outputId": "653e4f5b-e751-4ebc-f485-064031a9a8e9"
      },
      "source": [
        "print('F1 Score:', metrics.f1_score(y_val, y_pred_RF60, average='macro'))\n",
        "print('Accuracy Score:', metrics.accuracy_score(y_val, y_pred_RF60))\n",
        "print('Precision score: ', metrics.precision_score(y_val, y_pred_RF60, average='macro'))\n",
        "print('Recall score: ', metrics.recall_score(y_val, y_pred_RF60, average='macro'))\n",
        "print('Accuracy Score:', metrics.accuracy_score(y_val, y_pred_RF60))\n",
        "print('Confusion Matrix:', metrics.confusion_matrix(y_val, y_pred_RF60))\n",
        "print('Mean Absolute Error:', metrics.mean_absolute_error(y_val, y_pred_RF60))\n",
        "print('Mean Squared Error:', metrics.mean_squared_error(y_val, y_pred_RF60))\n",
        "print('Root Mean Squared Error:', np.sqrt(metrics.mean_squared_error(y_val, y_pred_RF60)))"
      ],
      "execution_count": null,
      "outputs": [
        {
          "output_type": "stream",
          "text": [
            "F1 Score: 0.9181688554609746\n",
            "Accuracy Score: 0.9192494767342256\n",
            "Precision score:  0.9189303249886663\n",
            "Recall score:  0.9191997639831198\n",
            "Accuracy Score: 0.9192494767342256\n",
            "Confusion Matrix: [[161905   7143   6082  26051]\n",
            " [  2551 196562    948   1225]\n",
            " [  1860    610 198372    885]\n",
            " [ 13539   2047   2105 183633]]\n",
            "Mean Absolute Error: 0.1929689963476918\n",
            "Mean Squared Error: 0.5157029389783965\n",
            "Root Mean Squared Error: 0.7181245985052988\n"
          ],
          "name": "stdout"
        }
      ]
    },
    {
      "cell_type": "markdown",
      "metadata": {
        "id": "qLr634KwNPPx"
      },
      "source": [
        "## Random forest with estimator 100"
      ]
    },
    {
      "cell_type": "code",
      "metadata": {
        "id": "FCbsYXi7NPPx",
        "outputId": "4f5bae9d-8804-4eb4-f96d-a3954df8f2a7"
      },
      "source": [
        "## Random Forest with estimator 100 \n",
        "from sklearn.ensemble import RandomForestClassifier\n",
        "\n",
        "Random_F_model_100 = RandomForestClassifier(n_estimators=100, random_state=0)\n",
        "Random_F_model_100.fit(x_train, y_train)"
      ],
      "execution_count": null,
      "outputs": [
        {
          "output_type": "execute_result",
          "data": {
            "text/plain": [
              "RandomForestClassifier(random_state=0)"
            ]
          },
          "metadata": {
            "tags": []
          },
          "execution_count": 230
        }
      ]
    },
    {
      "cell_type": "code",
      "metadata": {
        "id": "HfqARXnZNPPx"
      },
      "source": [
        "y_pred_RF100 = Random_F_model_100.predict(x_val)"
      ],
      "execution_count": null,
      "outputs": []
    },
    {
      "cell_type": "code",
      "metadata": {
        "id": "dHavy1MPNPPy",
        "outputId": "a1ea97fb-c6fd-4aa8-e3d9-f6bce73e2a48"
      },
      "source": [
        "print('F1 Score:', metrics.f1_score(y_val, y_pred_RF100, average='macro'))\n",
        "print('Accuracy Score:', metrics.accuracy_score(y_val, y_pred_RF100))\n",
        "print('Precision score: ', metrics.precision_score(y_val, y_pred_RF100, average='macro'))\n",
        "print('Recall score: ', metrics.recall_score(y_val, y_pred_RF100, average='macro'))\n",
        "print('Accuracy Score:', metrics.accuracy_score(y_val, y_pred_RF100))\n",
        "print('Confusion Matrix:', metrics.confusion_matrix(y_val, y_pred_RF100))\n",
        "print('Mean Absolute Error:', metrics.mean_absolute_error(y_val, y_pred_RF100))\n",
        "print('Mean Squared Error:', metrics.mean_squared_error(y_val, y_pred_RF100))\n",
        "print('Root Mean Squared Error:', np.sqrt(metrics.mean_squared_error(y_val, y_pred_RF100)))"
      ],
      "execution_count": null,
      "outputs": [
        {
          "output_type": "stream",
          "text": [
            "F1 Score: 0.9189096865720365\n",
            "Accuracy Score: 0.9200104777298583\n",
            "Precision score:  0.919829672079975\n",
            "Recall score:  0.9199607377639372\n",
            "Accuracy Score: 0.9200104777298583\n",
            "Confusion Matrix: [[161759   7136   6092  26194]\n",
            " [  2435 196651    970   1230]\n",
            " [  1767    607 198424    929]\n",
            " [ 12959   2009   2105 184251]]\n",
            "Mean Absolute Error: 0.19097897253692656\n",
            "Mean Squared Error: 0.5101698534359257\n",
            "Root Mean Squared Error: 0.7142617541461433\n"
          ],
          "name": "stdout"
        }
      ]
    },
    {
      "cell_type": "code",
      "metadata": {
        "id": "WubbDhNuNPPy"
      },
      "source": [
        "x_test_009 = pd.read_csv('TestProcessData/subject_009_01final_inner.csv')\n",
        "x_test_010 = pd.read_csv('TestProcessData/subject_010_01final_inner.csv')\n",
        "x_test_011 = pd.read_csv('TestProcessData/subject_011_01final_inner.csv')\n",
        "x_test_012 = pd.read_csv('TestProcessData/subject_012_01final_inner.csv')\n",
        "\n",
        "y_pred_RF100_009 = Random_F_model_100.predict(x_test_009)\n",
        "y_pred_RF100_010 = Random_F_model_100.predict(x_test_010)\n",
        "y_pred_RF100_011 = Random_F_model_100.predict(x_test_011)\n",
        "y_pred_RF100_012 = Random_F_model_100.predict(x_test_012)"
      ],
      "execution_count": null,
      "outputs": []
    },
    {
      "cell_type": "code",
      "metadata": {
        "id": "TyLMwkSsNPPy"
      },
      "source": [
        "np.savetxt(\"TestResults/RF100/subject_009_01__y_prediction.csv\", y_pred_RF100_009, delimiter=\",\")\n",
        "np.savetxt(\"TestResults/RF100/subject_010_01__y_prediction.csv\", y_pred_RF100_010, delimiter=\",\")\n",
        "np.savetxt(\"TestResults/RF100/subject_011_01__y_prediction.csv\", y_pred_RF100_011, delimiter=\",\")\n",
        "np.savetxt(\"TestResults/RF100/subject_012_01__y_prediction.csv\", y_pred_RF100_012, delimiter=\",\")"
      ],
      "execution_count": null,
      "outputs": []
    },
    {
      "cell_type": "markdown",
      "metadata": {
        "id": "0c9BPkVRSE1y"
      },
      "source": [
        "## XGBoost "
      ]
    },
    {
      "cell_type": "code",
      "metadata": {
        "id": "zHVuFIvhR_qS",
        "outputId": "435c8d5b-2ceb-496c-f89f-4004820eca9a"
      },
      "source": [
        "from xgboost import XGBClassifier\n",
        "\n",
        "# fit model on training data\n",
        "XGB_model = XGBClassifier(learning_rate=0.1, n_estimators=20)\n",
        "XGB_model.fit(x_train, y_train)"
      ],
      "execution_count": null,
      "outputs": [
        {
          "output_type": "execute_result",
          "data": {
            "text/plain": [
              "XGBClassifier(base_score=0.5, booster='gbtree', colsample_bylevel=1,\n",
              "              colsample_bynode=1, colsample_bytree=1, gamma=0, gpu_id=-1,\n",
              "              importance_type='gain', interaction_constraints='',\n",
              "              learning_rate=0.1, max_delta_step=0, max_depth=6,\n",
              "              min_child_weight=1, missing=nan, monotone_constraints='()',\n",
              "              n_estimators=20, n_jobs=0, num_parallel_tree=1,\n",
              "              objective='multi:softprob', random_state=0, reg_alpha=0,\n",
              "              reg_lambda=1, scale_pos_weight=None, subsample=1,\n",
              "              tree_method='exact', validate_parameters=1, verbosity=None)"
            ]
          },
          "metadata": {
            "tags": []
          },
          "execution_count": 13
        }
      ]
    },
    {
      "cell_type": "code",
      "metadata": {
        "id": "V1dcgNxZR_qT"
      },
      "source": [
        "import pickle\n",
        "\n",
        "saved_model_XGB = 'XGB_smote.sav'\n",
        "pickle.dump(XGB_model, open(saved_model_XGB, 'wb'))"
      ],
      "execution_count": null,
      "outputs": []
    },
    {
      "cell_type": "code",
      "metadata": {
        "id": "cu0i5vzRR_qT"
      },
      "source": [
        "x_test_009 = pd.read_csv('TestProcessData/subject_009_01final_inner.csv')\n",
        "x_test_010 = pd.read_csv('TestProcessData/subject_010_01final_inner.csv')\n",
        "x_test_011 = pd.read_csv('TestProcessData/subject_011_01final_inner.csv')\n",
        "x_test_012 = pd.read_csv('TestProcessData/subject_012_01final_inner.csv')\n",
        "\n",
        "y_pred_XG_009 = XGB_model.predict(x_test_009)\n",
        "y_pred_XG_010 = XGB_model.predict(x_test_010)\n",
        "y_pred_XG_011 = XGB_model.predict(x_test_011)\n",
        "y_pred_XG_012 = XGB_model.predict(x_test_012)"
      ],
      "execution_count": null,
      "outputs": []
    },
    {
      "cell_type": "code",
      "metadata": {
        "id": "rT6Szxn4R_qT"
      },
      "source": [
        "np.savetxt(\"TestResults/XGB/subject_009_01__y_prediction.csv\", y_pred_XG_009, delimiter=\",\")\n",
        "np.savetxt(\"TestResults/XGB/subject_010_01__y_prediction.csv\", y_pred_XG_010, delimiter=\",\")\n",
        "np.savetxt(\"TestResults/XGB/subject_011_01__y_prediction.csv\", y_pred_XG_011, delimiter=\",\")\n",
        "np.savetxt(\"TestResults/XGB/subject_012_01__y_prediction.csv\", y_pred_XG_012, delimiter=\",\")"
      ],
      "execution_count": null,
      "outputs": []
    },
    {
      "cell_type": "code",
      "metadata": {
        "id": "yPswi3IkR_qU"
      },
      "source": [
        "y_pred_XGB = XGB_model.predict(x_val)"
      ],
      "execution_count": null,
      "outputs": []
    },
    {
      "cell_type": "code",
      "metadata": {
        "id": "jsT8VZeFR_qU",
        "outputId": "9444cb02-e70b-47da-bd91-2a4c92f1ecda"
      },
      "source": [
        "print('F1 Score:', metrics.f1_score(y_val, y_pred_XGB, average='macro'))\n",
        "print('Accuracy Score:', metrics.accuracy_score(y_val, y_pred_XGB))\n",
        "print('Precision score: ', metrics.precision_score(y_val, y_pred_XGB, average='macro'))\n",
        "print('Recall score: ', metrics.recall_score(y_val, y_pred_XGB, average='macro'))\n",
        "print('Accuracy Score:', metrics.accuracy_score(y_val, y_pred_XGB))\n",
        "print('Confusion Matrix:', metrics.confusion_matrix(y_val, y_pred_XGB))\n",
        "print('Mean Absolute Error:', metrics.mean_absolute_error(y_val, y_pred_XGB))\n",
        "print('Mean Squared Error:', metrics.mean_squared_error(y_val, y_pred_XGB))\n",
        "print('Root Mean Squared Error:', np.sqrt(metrics.mean_squared_error(y_val, y_pred_XGB)))"
      ],
      "execution_count": null,
      "outputs": [
        {
          "output_type": "stream",
          "text": [
            "F1 Score: 0.6286275721015606\n",
            "Accuracy Score: 0.6345494452017211\n",
            "Precision score:  0.6342074393716188\n",
            "Recall score:  0.6344190196590909\n",
            "Accuracy Score: 0.6345494452017211\n",
            "Confusion Matrix: [[ 82065  26486  23596  69034]\n",
            " [ 14068 136467  19671  31080]\n",
            " [  8829  10996 165184  16718]\n",
            " [ 37554  17952  18393 127425]]\n",
            "Mean Absolute Error: 0.7312189175164304\n",
            "Mean Squared Error: 1.7274002567292104\n",
            "Root Mean Squared Error: 1.3143059981333154\n"
          ],
          "name": "stdout"
        }
      ]
    }
  ]
}