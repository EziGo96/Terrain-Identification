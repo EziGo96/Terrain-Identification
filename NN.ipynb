{
  "nbformat": 4,
  "nbformat_minor": 0,
  "metadata": {
    "colab": {
      "name": "Team-26_ProjC2_Code.ipynb",
      "provenance": [],
      "collapsed_sections": [
        "2iUtQ67QB1hz",
        "coixU1LKB6sl",
        "i1POcSSRB0fo",
        "eXFWluEMDYhg",
        "RnRUei0lDro6",
        "b0GP5oKXEd0D",
        "sQUtbHqNFHbN",
        "6xAr2KjDJ2YA",
        "ZKTxxTj4U26h",
        "GYDAM7efjM4Q",
        "zRyRFUfmYaKs",
        "yElkQwiETANJ",
        "vU67zmoIXESr",
        "gbihG0R0ns3c",
        "f7D7j11EiZJq",
        "Qs35ZE7oL3du",
        "pqaOgdwD_Ofu"
      ],
      "toc_visible": true
    },
    "kernelspec": {
      "name": "python3",
      "display_name": "Python 3"
    },
    "language_info": {
      "name": "python"
    },
    "accelerator": "GPU"
  },
  "cells": [
    {
      "cell_type": "markdown",
      "metadata": {
        "id": "2iUtQ67QB1hz"
      },
      "source": [
        "#Import Libraries and mount the drive to access the drive"
      ]
    },
    {
      "cell_type": "code",
      "metadata": {
        "id": "c6w1MAoBGTU0"
      },
      "source": [
        "import pandas as pd\n",
        "import glob\n",
        "from sklearn.model_selection import train_test_split\n",
        "from sklearn import metrics\n",
        "import numpy as np\n",
        "from keras.models import Sequential\n",
        "from keras.layers import Dense\n",
        "from keras.layers import Flatten, Reshape\n",
        "from keras.utils import to_categorical\n",
        "from keras.layers.convolutional import Conv1D\n",
        "from keras.layers.convolutional import MaxPooling1D\n",
        "from keras.optimizers import SGD, Adam, RMSprop\n",
        "from keras.layers import Dropout, InputLayer, LSTM\n",
        "from keras.layers import Bidirectional, BatchNormalization\n",
        "from keras.layers import TimeDistributed\n",
        "from keras.layers import Conv2D, MaxPooling2D, Flatten, Dense, Activation, BatchNormalization, Dropout, UpSampling1D, AveragePooling1D"
      ],
      "execution_count": 39,
      "outputs": []
    },
    {
      "cell_type": "code",
      "metadata": {
        "id": "185ODFrbGWt0"
      },
      "source": [
        "import os\n",
        "from google.colab import drive\n",
        "drive.mount('/content/gdrive/')\n",
        "os.chdir(\"./gdrive/MyDrive/Neural Competition Project\")"
      ],
      "execution_count": null,
      "outputs": []
    },
    {
      "cell_type": "code",
      "metadata": {
        "colab": {
          "base_uri": "https://localhost:8080/",
          "height": 35
        },
        "id": "pF5C8C1NGpN5",
        "outputId": "bddaf437-3588-4f2e-d54a-a2e7eb3d7503"
      },
      "source": [
        "pwd!"
      ],
      "execution_count": 41,
      "outputs": [
        {
          "output_type": "execute_result",
          "data": {
            "application/vnd.google.colaboratory.intrinsic+json": {
              "type": "string"
            },
            "text/plain": [
              "'/content/gdrive/My Drive/Neural Competition Project'"
            ]
          },
          "metadata": {
            "tags": []
          },
          "execution_count": 41
        }
      ]
    },
    {
      "cell_type": "markdown",
      "metadata": {
        "id": "coixU1LKB6sl"
      },
      "source": [
        "# Data Preprocessing before Feeding to Neural Network Model\n",
        "\n",
        "The interpolated csv file is created by merging all the subject files with the y data interpolated to match the acc and gyrometer x sampling rate"
      ]
    },
    {
      "cell_type": "code",
      "metadata": {
        "id": "3KTco3NDGtDw"
      },
      "source": [
        "df=pd.read_csv('Interpolated_combined.csv')\n",
        "walking = df[df.label==0].count()[0]\n",
        "downstairs = df[df.label==1].count()[0]\n",
        "upstairs = df[df.label==2].count()[0]\n",
        "grass = df[df.label==3].count()[0]\n",
        "print(walking, downstairs,upstairs, grass)"
      ],
      "execution_count": null,
      "outputs": []
    },
    {
      "cell_type": "code",
      "metadata": {
        "id": "8lzwNSWnG280"
      },
      "source": [
        "# Partitioning the x and y data from the df.\n",
        "# Dropping the time and label columns from the x dataframe \n",
        "y_train = df.label\n",
        "x_train= df.drop('label', axis=1)\n",
        "x_train= x_train.drop('time', axis=1)"
      ],
      "execution_count": null,
      "outputs": []
    },
    {
      "cell_type": "code",
      "metadata": {
        "colab": {
          "base_uri": "https://localhost:8080/"
        },
        "id": "JFTBif0EG7Cg",
        "outputId": "1a891237-ef1e-48b4-fb92-7c5a06920d50"
      },
      "source": [
        "print(y_train)"
      ],
      "execution_count": 5,
      "outputs": [
        {
          "output_type": "stream",
          "text": [
            "0          0.0\n",
            "1          0.0\n",
            "2          0.0\n",
            "3          0.0\n",
            "4          0.0\n",
            "          ... \n",
            "1341612    0.0\n",
            "1341613    0.0\n",
            "1341614    0.0\n",
            "1341615    0.0\n",
            "1341616    0.0\n",
            "Name: label, Length: 1341617, dtype: float64\n"
          ],
          "name": "stdout"
        }
      ]
    },
    {
      "cell_type": "markdown",
      "metadata": {
        "id": "i1POcSSRB0fo"
      },
      "source": [
        "## One hot encoding for y labels"
      ]
    },
    {
      "cell_type": "code",
      "metadata": {
        "id": "4_YEOCPTHE9B"
      },
      "source": [
        "y_train_cat = to_categorical(y_train,4).reshape(-1,4)\n",
        "df_y = pd.DataFrame(y_train_cat, columns = ['l1','l2','l3','l4'])"
      ],
      "execution_count": 6,
      "outputs": []
    },
    {
      "cell_type": "code",
      "metadata": {
        "colab": {
          "base_uri": "https://localhost:8080/",
          "height": 419
        },
        "id": "nXbZsiljHLFv",
        "outputId": "743fc742-1db9-4e80-ac6e-7c56b528c7f3"
      },
      "source": [
        "df_y"
      ],
      "execution_count": 7,
      "outputs": [
        {
          "output_type": "execute_result",
          "data": {
            "text/html": [
              "<div>\n",
              "<style scoped>\n",
              "    .dataframe tbody tr th:only-of-type {\n",
              "        vertical-align: middle;\n",
              "    }\n",
              "\n",
              "    .dataframe tbody tr th {\n",
              "        vertical-align: top;\n",
              "    }\n",
              "\n",
              "    .dataframe thead th {\n",
              "        text-align: right;\n",
              "    }\n",
              "</style>\n",
              "<table border=\"1\" class=\"dataframe\">\n",
              "  <thead>\n",
              "    <tr style=\"text-align: right;\">\n",
              "      <th></th>\n",
              "      <th>l1</th>\n",
              "      <th>l2</th>\n",
              "      <th>l3</th>\n",
              "      <th>l4</th>\n",
              "    </tr>\n",
              "  </thead>\n",
              "  <tbody>\n",
              "    <tr>\n",
              "      <th>0</th>\n",
              "      <td>1.0</td>\n",
              "      <td>0.0</td>\n",
              "      <td>0.0</td>\n",
              "      <td>0.0</td>\n",
              "    </tr>\n",
              "    <tr>\n",
              "      <th>1</th>\n",
              "      <td>1.0</td>\n",
              "      <td>0.0</td>\n",
              "      <td>0.0</td>\n",
              "      <td>0.0</td>\n",
              "    </tr>\n",
              "    <tr>\n",
              "      <th>2</th>\n",
              "      <td>1.0</td>\n",
              "      <td>0.0</td>\n",
              "      <td>0.0</td>\n",
              "      <td>0.0</td>\n",
              "    </tr>\n",
              "    <tr>\n",
              "      <th>3</th>\n",
              "      <td>1.0</td>\n",
              "      <td>0.0</td>\n",
              "      <td>0.0</td>\n",
              "      <td>0.0</td>\n",
              "    </tr>\n",
              "    <tr>\n",
              "      <th>4</th>\n",
              "      <td>1.0</td>\n",
              "      <td>0.0</td>\n",
              "      <td>0.0</td>\n",
              "      <td>0.0</td>\n",
              "    </tr>\n",
              "    <tr>\n",
              "      <th>...</th>\n",
              "      <td>...</td>\n",
              "      <td>...</td>\n",
              "      <td>...</td>\n",
              "      <td>...</td>\n",
              "    </tr>\n",
              "    <tr>\n",
              "      <th>1341612</th>\n",
              "      <td>1.0</td>\n",
              "      <td>0.0</td>\n",
              "      <td>0.0</td>\n",
              "      <td>0.0</td>\n",
              "    </tr>\n",
              "    <tr>\n",
              "      <th>1341613</th>\n",
              "      <td>1.0</td>\n",
              "      <td>0.0</td>\n",
              "      <td>0.0</td>\n",
              "      <td>0.0</td>\n",
              "    </tr>\n",
              "    <tr>\n",
              "      <th>1341614</th>\n",
              "      <td>1.0</td>\n",
              "      <td>0.0</td>\n",
              "      <td>0.0</td>\n",
              "      <td>0.0</td>\n",
              "    </tr>\n",
              "    <tr>\n",
              "      <th>1341615</th>\n",
              "      <td>1.0</td>\n",
              "      <td>0.0</td>\n",
              "      <td>0.0</td>\n",
              "      <td>0.0</td>\n",
              "    </tr>\n",
              "    <tr>\n",
              "      <th>1341616</th>\n",
              "      <td>1.0</td>\n",
              "      <td>0.0</td>\n",
              "      <td>0.0</td>\n",
              "      <td>0.0</td>\n",
              "    </tr>\n",
              "  </tbody>\n",
              "</table>\n",
              "<p>1341617 rows × 4 columns</p>\n",
              "</div>"
            ],
            "text/plain": [
              "          l1   l2   l3   l4\n",
              "0        1.0  0.0  0.0  0.0\n",
              "1        1.0  0.0  0.0  0.0\n",
              "2        1.0  0.0  0.0  0.0\n",
              "3        1.0  0.0  0.0  0.0\n",
              "4        1.0  0.0  0.0  0.0\n",
              "...      ...  ...  ...  ...\n",
              "1341612  1.0  0.0  0.0  0.0\n",
              "1341613  1.0  0.0  0.0  0.0\n",
              "1341614  1.0  0.0  0.0  0.0\n",
              "1341615  1.0  0.0  0.0  0.0\n",
              "1341616  1.0  0.0  0.0  0.0\n",
              "\n",
              "[1341617 rows x 4 columns]"
            ]
          },
          "metadata": {
            "tags": []
          },
          "execution_count": 7
        }
      ]
    },
    {
      "cell_type": "code",
      "metadata": {
        "colab": {
          "base_uri": "https://localhost:8080/"
        },
        "id": "U91heLhmG9qp",
        "outputId": "a0fcb3bb-1e46-4ff0-881e-ce1922fb8a82"
      },
      "source": [
        "print(x_train)"
      ],
      "execution_count": 8,
      "outputs": [
        {
          "output_type": "stream",
          "text": [
            "            acc_x     acc_y     acc_z    gyro_x    gyro_y    gyro_z\n",
            "0        4.186920  8.344455  2.908057  0.005771 -0.004480 -0.003345\n",
            "1        4.544637  8.408659  2.890000  0.007967  0.022412  0.001159\n",
            "2        4.849308  8.411614  2.900692  0.027778 -0.010670 -0.014223\n",
            "3        4.509190  8.118649  2.847298  0.021577 -0.045498 -0.021111\n",
            "4        4.226515  8.273807  2.851742  0.012534  0.000445 -0.016830\n",
            "...           ...       ...       ...       ...       ...       ...\n",
            "1341612  2.072244  8.908878 -3.500000  0.001351  0.001191  0.001031\n",
            "1341613  2.085123  8.915123 -3.520000  0.001918 -0.001147  0.000000\n",
            "1341614  2.083774  8.910000 -3.538981 -0.002015 -0.004099  0.001042\n",
            "1341615  2.111447  8.908553 -3.535724  0.000183 -0.001673  0.001856\n",
            "1341616  2.087730  8.900000 -3.518865  0.000052 -0.001267  0.000000\n",
            "\n",
            "[1341617 rows x 6 columns]\n"
          ],
          "name": "stdout"
        }
      ]
    },
    {
      "cell_type": "markdown",
      "metadata": {
        "id": "eXFWluEMDYhg"
      },
      "source": [
        "## Standardize the Train Data\n",
        "\n",
        "Using Standard Scalar function to normalize the training data."
      ]
    },
    {
      "cell_type": "code",
      "metadata": {
        "id": "qfBaAxiHH8TC"
      },
      "source": [
        "from sklearn.preprocessing import StandardScaler\n",
        "scaler = StandardScaler()\n",
        "df_x_scaled = scaler.fit_transform(x_train)"
      ],
      "execution_count": 9,
      "outputs": []
    },
    {
      "cell_type": "code",
      "metadata": {
        "colab": {
          "base_uri": "https://localhost:8080/"
        },
        "id": "XNTHqdWNIOiJ",
        "outputId": "05e4e64a-c617-4881-e4cb-30fcef12e49d"
      },
      "source": [
        "df_x_scale = pd.DataFrame(df_x_scaled, columns = ['ax','ay','az','gx','gy','gz'])\n",
        "print(df_x_scale)"
      ],
      "execution_count": 10,
      "outputs": [
        {
          "output_type": "stream",
          "text": [
            "               ax        ay        az        gx        gy        gz\n",
            "0        0.620543  0.045290 -0.567099  0.000351 -0.018272  0.083457\n",
            "1        0.682938  0.054657 -0.570337  0.001033 -0.001082  0.089309\n",
            "2        0.736081  0.055088 -0.568419  0.007191 -0.022229  0.069323\n",
            "3        0.676755  0.012346 -0.577995  0.005263 -0.044493  0.060374\n",
            "4        0.627449  0.034983 -0.577198  0.002453 -0.015124  0.065937\n",
            "...           ...       ...       ...       ...       ...       ...\n",
            "1341612  0.251684  0.127635 -1.716335 -0.001023 -0.014647  0.089143\n",
            "1341613  0.253931  0.128546 -1.719921 -0.000847 -0.016142  0.087803\n",
            "1341614  0.253695  0.127799 -1.723325 -0.002069 -0.018029  0.089157\n",
            "1341615  0.258522  0.127588 -1.722741 -0.001386 -0.016478  0.090215\n",
            "1341616  0.254385  0.126340 -1.719718 -0.001427 -0.016218  0.087803\n",
            "\n",
            "[1341617 rows x 6 columns]\n"
          ],
          "name": "stdout"
        }
      ]
    },
    {
      "cell_type": "markdown",
      "metadata": {
        "id": "RnRUei0lDro6"
      },
      "source": [
        "## Creating windows in the training data. \n",
        "\n",
        "We are dividing our entire test dataset in multiple window frames. We have used the window size of 40, hence 40 samples of data will be considered as a single frame and will help to identify patterns. \n",
        "\n",
        "We will also creating window frames on our y labels which are one hot-encoded."
      ]
    },
    {
      "cell_type": "code",
      "metadata": {
        "id": "rQpg_q_ZIPqy"
      },
      "source": [
        "def define_windows(df_x, df_y, windowsize=120):\n",
        "  window_x=[]\n",
        "  window_y=[]\n",
        "  for i in range(0, len(df_x)-windowsize, windowsize+1):\n",
        "    window_x.append([df_x.values[i:i+windowsize]])\n",
        "    window_y.append([df_y.values[i:i+windowsize]])\n",
        "    #window_y.append([df_y[['l1','l2','l3','l4']].values[i:i+windowsize]])\n",
        "  window_x=np.array(window_x).reshape(-1,windowsize,6)\n",
        "  window_y=np.array(window_y).reshape(-1,windowsize,4)\n",
        "\n",
        "  return window_x, window_y"
      ],
      "execution_count": 11,
      "outputs": []
    },
    {
      "cell_type": "code",
      "metadata": {
        "colab": {
          "base_uri": "https://localhost:8080/"
        },
        "id": "pefDUfI2JKmi",
        "outputId": "d85b127b-dcfb-48dc-9d7b-6b919efc952b"
      },
      "source": [
        "wsize = 40\n",
        "x_window, y_window = define_windows(df_x_scale, df_y, wsize)\n",
        "print(x_window.shape, y_window.shape)"
      ],
      "execution_count": 12,
      "outputs": [
        {
          "output_type": "stream",
          "text": [
            "(32722, 40, 6) (32722, 40, 4)\n"
          ],
          "name": "stdout"
        }
      ]
    },
    {
      "cell_type": "markdown",
      "metadata": {
        "id": "b0GP5oKXEd0D"
      },
      "source": [
        "## Splitting the data into training and validation dataset\n",
        "\n",
        "We are splitting the data into 90% training and 10% validation dataset. We are not using to upssample our minority classes. Hence, we want to maximize our training data to include as much samples from the minority classes."
      ]
    },
    {
      "cell_type": "code",
      "metadata": {
        "colab": {
          "base_uri": "https://localhost:8080/"
        },
        "id": "z3jE5dSFJd5Z",
        "outputId": "3076a2dd-cf9e-4be2-9165-81ed081702cc"
      },
      "source": [
        "x_train,x_val,y_train,y_val=train_test_split(x_window, y_window, test_size=0.1,random_state=123)\n",
        "\n",
        "print(len(x_train), len(x_val))\n",
        "print(len(y_train), len(y_val))"
      ],
      "execution_count": 13,
      "outputs": [
        {
          "output_type": "stream",
          "text": [
            "29449 3273\n",
            "29449 3273\n"
          ],
          "name": "stdout"
        }
      ]
    },
    {
      "cell_type": "markdown",
      "metadata": {
        "id": "sQUtbHqNFHbN"
      },
      "source": [
        "## Helper function to plot the data curve"
      ]
    },
    {
      "cell_type": "code",
      "metadata": {
        "id": "Aq4DNKCDJoP1"
      },
      "source": [
        "import matplotlib.pyplot as plt\n",
        "def plot_history(history):\n",
        "\t  # plot loss\n",
        "    plt.title('Loss')\n",
        "    plt.plot(history.history['loss'], color='blue', label='train')\n",
        "    plt.plot(history.history['val_loss'], color='red', label='validation')\n",
        "    plt.ylabel('Loss')\n",
        "    plt.xlabel('Epoch')\n",
        "    plt.legend(['Train', 'Validation'])\n",
        "    plt.show()\n",
        "    \n",
        "    # plot accuracy\n",
        "    plt.title('Accuracy')\n",
        "    plt.plot(history.history['accuracy'], color='blue', label='train')\n",
        "    plt.plot(history.history['val_accuracy'], color='red', label='validation')\n",
        "    plt.ylabel('Accuracy')\n",
        "    plt.xlabel('Epoch')\n",
        "    plt.legend(['Train', 'Validation'])\n",
        "    plt.show()"
      ],
      "execution_count": 14,
      "outputs": []
    },
    {
      "cell_type": "code",
      "metadata": {
        "id": "ESnJydyZM9fy"
      },
      "source": [
        "# Function for changing the categorical prediction to numerical prediction\n",
        "def flatten_pred(y_pred):\n",
        "  y_hat=[]\n",
        "  for i in y_pred:\n",
        "    for j in i:\n",
        "      y_hat.append(np.argmax(j))\n",
        "  \n",
        "  return y_hat"
      ],
      "execution_count": null,
      "outputs": []
    },
    {
      "cell_type": "markdown",
      "metadata": {
        "id": "6xAr2KjDJ2YA"
      },
      "source": [
        "# CNN"
      ]
    },
    {
      "cell_type": "code",
      "metadata": {
        "id": "yDU682d-LDBQ"
      },
      "source": [
        "def create_1dCNN():\n",
        "  model = Sequential()\n",
        "  model.add(Conv1D(16, kernel_size=3, activation='relu', padding='same', input_shape=(40,6)))\n",
        "  #model.add(MaxPooling1D(2))\n",
        "  model.add(AveragePooling1D(2))\n",
        "  model.add(Dropout(0.2))\n",
        "\n",
        "  model.add(Conv1D(32, kernel_size=3, activation='relu', padding='same'))\n",
        "  #model.add(MaxPooling1D(2))\n",
        "  model.add(AveragePooling1D(2))\n",
        "  model.add(Dropout(0.2))\n",
        "\n",
        "  model.add(Conv1D(32, kernel_size=3, activation='relu', padding='same'))\n",
        "  model.add(UpSampling1D(size=2))\n",
        "  model.add(Dropout(0.2))\n",
        "\n",
        "  model.add(Conv1D(16, kernel_size=3, activation='relu', padding='same'))\n",
        "  model.add(UpSampling1D(size=2))\n",
        "  model.add(Dropout(0.2))\n",
        "\n",
        "  model.add(Conv1D(4, kernel_size=3, activation='softmax', padding='same'))\n",
        "  model.compile(optimizer=Adam(learning_rate=0.001),  loss='categorical_crossentropy', metrics = ['accuracy'])\n",
        "  return model\n",
        "  #return model"
      ],
      "execution_count": null,
      "outputs": []
    },
    {
      "cell_type": "code",
      "metadata": {
        "id": "_4k1ds5vRLEP",
        "colab": {
          "base_uri": "https://localhost:8080/"
        },
        "outputId": "b95fe043-f931-4cfe-a0e4-ace9bbdd7337"
      },
      "source": [
        "print(cnn_model.summary())"
      ],
      "execution_count": null,
      "outputs": [
        {
          "output_type": "stream",
          "text": [
            "Model: \"sequential\"\n",
            "_________________________________________________________________\n",
            "Layer (type)                 Output Shape              Param #   \n",
            "=================================================================\n",
            "conv1d (Conv1D)              (None, 40, 16)            304       \n",
            "_________________________________________________________________\n",
            "average_pooling1d (AveragePo (None, 20, 16)            0         \n",
            "_________________________________________________________________\n",
            "dropout (Dropout)            (None, 20, 16)            0         \n",
            "_________________________________________________________________\n",
            "conv1d_1 (Conv1D)            (None, 20, 32)            1568      \n",
            "_________________________________________________________________\n",
            "average_pooling1d_1 (Average (None, 10, 32)            0         \n",
            "_________________________________________________________________\n",
            "dropout_1 (Dropout)          (None, 10, 32)            0         \n",
            "_________________________________________________________________\n",
            "conv1d_2 (Conv1D)            (None, 10, 32)            3104      \n",
            "_________________________________________________________________\n",
            "up_sampling1d (UpSampling1D) (None, 20, 32)            0         \n",
            "_________________________________________________________________\n",
            "dropout_2 (Dropout)          (None, 20, 32)            0         \n",
            "_________________________________________________________________\n",
            "conv1d_3 (Conv1D)            (None, 20, 16)            1552      \n",
            "_________________________________________________________________\n",
            "up_sampling1d_1 (UpSampling1 (None, 40, 16)            0         \n",
            "_________________________________________________________________\n",
            "dropout_3 (Dropout)          (None, 40, 16)            0         \n",
            "_________________________________________________________________\n",
            "conv1d_4 (Conv1D)            (None, 40, 4)             196       \n",
            "=================================================================\n",
            "Total params: 6,724\n",
            "Trainable params: 6,724\n",
            "Non-trainable params: 0\n",
            "_________________________________________________________________\n",
            "None\n"
          ],
          "name": "stdout"
        }
      ]
    },
    {
      "cell_type": "code",
      "metadata": {
        "colab": {
          "base_uri": "https://localhost:8080/"
        },
        "id": "AoMwnBvKLk9d",
        "outputId": "b69cc8a8-e75b-4ed0-d16d-4ec15422906d"
      },
      "source": [
        "cnn_model = create_1dCNN()\n",
        "\n",
        "history_cnn= cnn_model.fit(x_train, y_train, epochs=25, verbose=1, validation_data=(x_val, y_val))"
      ],
      "execution_count": null,
      "outputs": [
        {
          "output_type": "stream",
          "text": [
            "Epoch 1/25\n",
            "921/921 [==============================] - 8s 6ms/step - loss: 0.7880 - accuracy: 0.7404 - val_loss: 0.5315 - val_accuracy: 0.7864\n",
            "Epoch 2/25\n",
            "921/921 [==============================] - 5s 5ms/step - loss: 0.5503 - accuracy: 0.7929 - val_loss: 0.4702 - val_accuracy: 0.8143\n",
            "Epoch 3/25\n",
            "921/921 [==============================] - 5s 5ms/step - loss: 0.5020 - accuracy: 0.8084 - val_loss: 0.4342 - val_accuracy: 0.8347\n",
            "Epoch 4/25\n",
            "921/921 [==============================] - 5s 5ms/step - loss: 0.4740 - accuracy: 0.8205 - val_loss: 0.4147 - val_accuracy: 0.8390\n",
            "Epoch 5/25\n",
            "921/921 [==============================] - 5s 5ms/step - loss: 0.4550 - accuracy: 0.8258 - val_loss: 0.3925 - val_accuracy: 0.8536\n",
            "Epoch 6/25\n",
            "921/921 [==============================] - 5s 5ms/step - loss: 0.4493 - accuracy: 0.8291 - val_loss: 0.3887 - val_accuracy: 0.8474\n",
            "Epoch 7/25\n",
            "921/921 [==============================] - 5s 5ms/step - loss: 0.4370 - accuracy: 0.8315 - val_loss: 0.3695 - val_accuracy: 0.8583\n",
            "Epoch 8/25\n",
            "921/921 [==============================] - 5s 5ms/step - loss: 0.4183 - accuracy: 0.8411 - val_loss: 0.3666 - val_accuracy: 0.8603\n",
            "Epoch 9/25\n",
            "921/921 [==============================] - 5s 5ms/step - loss: 0.4209 - accuracy: 0.8388 - val_loss: 0.3565 - val_accuracy: 0.8646\n",
            "Epoch 10/25\n",
            "921/921 [==============================] - 5s 5ms/step - loss: 0.4049 - accuracy: 0.8453 - val_loss: 0.3533 - val_accuracy: 0.8638\n",
            "Epoch 11/25\n",
            "921/921 [==============================] - 5s 5ms/step - loss: 0.4068 - accuracy: 0.8435 - val_loss: 0.3493 - val_accuracy: 0.8675\n",
            "Epoch 12/25\n",
            "921/921 [==============================] - 5s 5ms/step - loss: 0.3993 - accuracy: 0.8470 - val_loss: 0.3411 - val_accuracy: 0.8745\n",
            "Epoch 13/25\n",
            "921/921 [==============================] - 5s 5ms/step - loss: 0.3996 - accuracy: 0.8472 - val_loss: 0.3355 - val_accuracy: 0.8749\n",
            "Epoch 14/25\n",
            "921/921 [==============================] - 5s 5ms/step - loss: 0.4001 - accuracy: 0.8466 - val_loss: 0.3390 - val_accuracy: 0.8728\n",
            "Epoch 15/25\n",
            "921/921 [==============================] - 5s 5ms/step - loss: 0.3927 - accuracy: 0.8503 - val_loss: 0.3328 - val_accuracy: 0.8769\n",
            "Epoch 16/25\n",
            "921/921 [==============================] - 5s 6ms/step - loss: 0.3891 - accuracy: 0.8527 - val_loss: 0.3322 - val_accuracy: 0.8754\n",
            "Epoch 17/25\n",
            "921/921 [==============================] - 5s 6ms/step - loss: 0.3877 - accuracy: 0.8505 - val_loss: 0.3342 - val_accuracy: 0.8741\n",
            "Epoch 18/25\n",
            "921/921 [==============================] - 5s 5ms/step - loss: 0.3826 - accuracy: 0.8542 - val_loss: 0.3308 - val_accuracy: 0.8752\n",
            "Epoch 19/25\n",
            "921/921 [==============================] - 5s 5ms/step - loss: 0.3888 - accuracy: 0.8521 - val_loss: 0.3236 - val_accuracy: 0.8791\n",
            "Epoch 20/25\n",
            "921/921 [==============================] - 5s 6ms/step - loss: 0.3746 - accuracy: 0.8588 - val_loss: 0.3340 - val_accuracy: 0.8718\n",
            "Epoch 21/25\n",
            "921/921 [==============================] - 5s 5ms/step - loss: 0.3764 - accuracy: 0.8566 - val_loss: 0.3210 - val_accuracy: 0.8795\n",
            "Epoch 22/25\n",
            "921/921 [==============================] - 5s 5ms/step - loss: 0.3807 - accuracy: 0.8534 - val_loss: 0.3211 - val_accuracy: 0.8792\n",
            "Epoch 23/25\n",
            "921/921 [==============================] - 5s 5ms/step - loss: 0.3712 - accuracy: 0.8583 - val_loss: 0.3207 - val_accuracy: 0.8797\n",
            "Epoch 24/25\n",
            "921/921 [==============================] - 5s 5ms/step - loss: 0.3801 - accuracy: 0.8542 - val_loss: 0.3213 - val_accuracy: 0.8779\n",
            "Epoch 25/25\n",
            "921/921 [==============================] - 5s 5ms/step - loss: 0.3759 - accuracy: 0.8582 - val_loss: 0.3272 - val_accuracy: 0.8765\n"
          ],
          "name": "stdout"
        }
      ]
    },
    {
      "cell_type": "code",
      "metadata": {
        "colab": {
          "base_uri": "https://localhost:8080/",
          "height": 573
        },
        "id": "868Fv3aAMW6-",
        "outputId": "e684ad02-1cbb-4e2d-ec0d-319260e35d2f"
      },
      "source": [
        "#Plot the loss and accuracy for the model\n",
        "plot_history(history_cnn)"
      ],
      "execution_count": null,
      "outputs": [
        {
          "output_type": "display_data",
          "data": {
            "image/png": "[encoded data removed]",
            "text/plain": [
              "<Figure size 432x288 with 1 Axes>"
            ]
          },
          "metadata": {
            "tags": [],
            "needs_background": "light"
          }
        },
        {
          "output_type": "display_data",
          "data": {
            "image/png": "[encoded data removed]",
            "text/plain": [
              "<Figure size 432x288 with 1 Axes>"
            ]
          },
          "metadata": {
            "tags": [],
            "needs_background": "light"
          }
        }
      ]
    },
    {
      "cell_type": "code",
      "metadata": {
        "id": "pRYAXQ3TIozu",
        "colab": {
          "base_uri": "https://localhost:8080/"
        },
        "outputId": "f55d955e-749a-4fcd-b0bd-eaad921bce36"
      },
      "source": [
        "from sklearn.metrics import classification_report\n",
        "\n",
        "y_val_pred = cnn_model.predict(x_val)\n",
        "y_val_pred_flat = flatten_pred(y_val_pred)\n",
        "y_val_flat = flatten_pred(y_val)\n",
        "print(classification_report(y_val_pred_flat, y_val_flat))"
      ],
      "execution_count": null,
      "outputs": [
        {
          "output_type": "stream",
          "text": [
            "              precision    recall  f1-score   support\n",
            "\n",
            "           0       0.97      0.88      0.92    106925\n",
            "           1       0.87      0.87      0.87      5651\n",
            "           2       0.93      0.91      0.92      7726\n",
            "           3       0.43      0.85      0.57     10618\n",
            "\n",
            "    accuracy                           0.88    130920\n",
            "   macro avg       0.80      0.88      0.82    130920\n",
            "weighted avg       0.92      0.88      0.89    130920\n",
            "\n"
          ],
          "name": "stdout"
        }
      ]
    },
    {
      "cell_type": "markdown",
      "metadata": {
        "id": "ZKTxxTj4U26h"
      },
      "source": [
        "# LSTM \n",
        "Single layer LSTM"
      ]
    },
    {
      "cell_type": "code",
      "metadata": {
        "id": "GxGZtyvOSyfu"
      },
      "source": [
        "def create_LSTM():\n",
        "  model = Sequential() \n",
        "  model.add(LSTM(100,  activation='relu', return_sequences=True,  input_shape=(40, 6)))\n",
        "  model.add(Dropout(0.1))\n",
        "  model.add(Dense(4, activation=\"softmax\"))\n",
        "  #model.summary()\n",
        "  model.compile(optimizer=Adam(learning_rate=0.001), loss='categorical_crossentropy', metrics = ['accuracy'])\n",
        "  return model"
      ],
      "execution_count": null,
      "outputs": []
    },
    {
      "cell_type": "code",
      "metadata": {
        "id": "Pr8pwxqtS1zw",
        "colab": {
          "base_uri": "https://localhost:8080/"
        },
        "outputId": "a4942a0f-77fa-482b-a78e-8cbe6c1acde4"
      },
      "source": [
        "lstm_model =create_LSTM()\n",
        "\n",
        "print(lstm_model.summary())"
      ],
      "execution_count": null,
      "outputs": [
        {
          "output_type": "stream",
          "text": [
            "WARNING:tensorflow:Layer lstm will not use cuDNN kernel since it doesn't meet the cuDNN kernel criteria. It will use generic GPU kernel as fallback when running on GPU\n",
            "Model: \"sequential\"\n",
            "_________________________________________________________________\n",
            "Layer (type)                 Output Shape              Param #   \n",
            "=================================================================\n",
            "lstm (LSTM)                  (None, 40, 100)           42800     \n",
            "_________________________________________________________________\n",
            "dropout (Dropout)            (None, 40, 100)           0         \n",
            "_________________________________________________________________\n",
            "dense (Dense)                (None, 40, 4)             404       \n",
            "=================================================================\n",
            "Total params: 43,204\n",
            "Trainable params: 43,204\n",
            "Non-trainable params: 0\n",
            "_________________________________________________________________\n",
            "None\n"
          ],
          "name": "stdout"
        }
      ]
    },
    {
      "cell_type": "code",
      "metadata": {
        "id": "1BnI1rS4S8Mz",
        "colab": {
          "base_uri": "https://localhost:8080/"
        },
        "outputId": "f7b0d0a3-6441-49d9-b8b0-defd4bdaceb9"
      },
      "source": [
        "history_lstm = lstm_model.fit(x_train, y_train, epochs=10, verbose=1, validation_data=(x_val, y_val))"
      ],
      "execution_count": null,
      "outputs": [
        {
          "output_type": "stream",
          "text": [
            "Epoch 1/10\n",
            "921/921 [==============================] - 56s 57ms/step - loss: 1.0211 - accuracy: 0.7480 - val_loss: 0.7006 - val_accuracy: 0.7504\n",
            "Epoch 2/10\n",
            "921/921 [==============================] - 53s 57ms/step - loss: 0.6241 - accuracy: 0.7794 - val_loss: 0.5272 - val_accuracy: 0.7979\n",
            "Epoch 3/10\n",
            "921/921 [==============================] - 53s 58ms/step - loss: 0.4764 - accuracy: 0.8266 - val_loss: 0.4407 - val_accuracy: 0.8433\n",
            "Epoch 4/10\n",
            "921/921 [==============================] - 53s 57ms/step - loss: 0.4269 - accuracy: 0.8444 - val_loss: 0.4142 - val_accuracy: 0.8493\n",
            "Epoch 5/10\n",
            "921/921 [==============================] - 52s 56ms/step - loss: 0.3892 - accuracy: 0.8590 - val_loss: 0.3821 - val_accuracy: 0.8607\n",
            "Epoch 6/10\n",
            "921/921 [==============================] - 53s 57ms/step - loss: 0.3688 - accuracy: 0.8665 - val_loss: 0.3741 - val_accuracy: 0.8639\n",
            "Epoch 7/10\n",
            "921/921 [==============================] - 52s 56ms/step - loss: 0.3546 - accuracy: 0.8720 - val_loss: 0.3579 - val_accuracy: 0.8713\n",
            "Epoch 8/10\n",
            "921/921 [==============================] - 52s 56ms/step - loss: 0.3396 - accuracy: 0.8772 - val_loss: 0.3561 - val_accuracy: 0.8702\n",
            "Epoch 9/10\n",
            "921/921 [==============================] - 52s 57ms/step - loss: 0.3312 - accuracy: 0.8807 - val_loss: 0.3349 - val_accuracy: 0.8800\n",
            "Epoch 10/10\n",
            "921/921 [==============================] - 52s 57ms/step - loss: 0.3210 - accuracy: 0.8836 - val_loss: 0.3403 - val_accuracy: 0.8752\n"
          ],
          "name": "stdout"
        }
      ]
    },
    {
      "cell_type": "code",
      "metadata": {
        "colab": {
          "base_uri": "https://localhost:8080/"
        },
        "id": "g6Ni55nCa6uX",
        "outputId": "6d96b67d-c8d4-4bac-acb7-a2f81cdf776b"
      },
      "source": [
        "history_lstm = lstm_model.fit(x_train, y_train, epochs=15, verbose=1, validation_data=(x_val, y_val))"
      ],
      "execution_count": null,
      "outputs": [
        {
          "output_type": "stream",
          "text": [
            "Epoch 1/15\n",
            "921/921 [==============================] - 52s 57ms/step - loss: 0.3135 - accuracy: 0.8869 - val_loss: 0.3395 - val_accuracy: 0.8778\n",
            "Epoch 2/15\n",
            "921/921 [==============================] - 53s 57ms/step - loss: 0.3032 - accuracy: 0.8910 - val_loss: 0.3450 - val_accuracy: 0.8734\n",
            "Epoch 3/15\n",
            "921/921 [==============================] - 53s 57ms/step - loss: 0.2990 - accuracy: 0.8923 - val_loss: 0.3124 - val_accuracy: 0.8866\n",
            "Epoch 4/15\n",
            "921/921 [==============================] - 52s 57ms/step - loss: 0.2905 - accuracy: 0.8956 - val_loss: 0.3242 - val_accuracy: 0.8842\n",
            "Epoch 5/15\n",
            "921/921 [==============================] - 52s 56ms/step - loss: 0.2845 - accuracy: 0.8971 - val_loss: 0.3077 - val_accuracy: 0.8908\n",
            "Epoch 6/15\n",
            "921/921 [==============================] - 52s 56ms/step - loss: 0.2815 - accuracy: 0.8994 - val_loss: 0.3113 - val_accuracy: 0.8876\n",
            "Epoch 7/15\n",
            "921/921 [==============================] - 52s 56ms/step - loss: 0.2732 - accuracy: 0.9017 - val_loss: 0.3108 - val_accuracy: 0.8906\n",
            "Epoch 8/15\n",
            "921/921 [==============================] - 52s 56ms/step - loss: 0.2687 - accuracy: 0.9038 - val_loss: 0.3060 - val_accuracy: 0.8914\n",
            "Epoch 9/15\n",
            "921/921 [==============================] - 52s 57ms/step - loss: 0.2619 - accuracy: 0.9060 - val_loss: 0.3024 - val_accuracy: 0.8937\n",
            "Epoch 10/15\n",
            "921/921 [==============================] - 53s 57ms/step - loss: 0.2572 - accuracy: 0.9075 - val_loss: 0.3031 - val_accuracy: 0.8945\n",
            "Epoch 11/15\n",
            "921/921 [==============================] - 58s 63ms/step - loss: 0.2543 - accuracy: 0.9088 - val_loss: 0.3029 - val_accuracy: 0.8926\n",
            "Epoch 12/15\n",
            "921/921 [==============================] - 54s 59ms/step - loss: 0.2509 - accuracy: 0.9098 - val_loss: 0.2975 - val_accuracy: 0.8972\n",
            "Epoch 13/15\n",
            "921/921 [==============================] - 53s 58ms/step - loss: 0.2478 - accuracy: 0.9111 - val_loss: 0.3192 - val_accuracy: 0.8933\n",
            "Epoch 14/15\n",
            "921/921 [==============================] - 53s 58ms/step - loss: 0.3290 - accuracy: 0.8847 - val_loss: 0.3043 - val_accuracy: 0.8914\n",
            "Epoch 15/15\n",
            "921/921 [==============================] - 54s 59ms/step - loss: 0.2572 - accuracy: 0.9078 - val_loss: 0.3017 - val_accuracy: 0.8961\n"
          ],
          "name": "stdout"
        }
      ]
    },
    {
      "cell_type": "code",
      "metadata": {
        "colab": {
          "base_uri": "https://localhost:8080/",
          "height": 573
        },
        "id": "LgDsEzkQVKn8",
        "outputId": "a43ceb9c-a07d-4d5a-cfc6-822316dbfd5e"
      },
      "source": [
        "#Plot the loss and accuracy for the model\n",
        "plot_history(history_lstm)"
      ],
      "execution_count": null,
      "outputs": [
        {
          "output_type": "display_data",
          "data": {
            "image/png": "[encoded data removed]",
            "text/plain": [
              "<Figure size 432x288 with 1 Axes>"
            ]
          },
          "metadata": {
            "tags": [],
            "needs_background": "light"
          }
        },
        {
          "output_type": "display_data",
          "data": {
            "image/png": "[encoded data removed]",
            "text/plain": [
              "<Figure size 432x288 with 1 Axes>"
            ]
          },
          "metadata": {
            "tags": [],
            "needs_background": "light"
          }
        }
      ]
    },
    {
      "cell_type": "code",
      "metadata": {
        "colab": {
          "base_uri": "https://localhost:8080/"
        },
        "id": "H86uLftpVOpf",
        "outputId": "7dab449c-25f0-42a6-d6f2-fac6df24f8e4"
      },
      "source": [
        "from sklearn.metrics import classification_report\n",
        "\n",
        "y_val_pred = lstm_model.predict(x_val)\n",
        "y_val_pred_flat = flatten_pred(y_val_pred)\n",
        "y_val_flat = flatten_pred(y_val)\n",
        "print(classification_report(y_val_pred_flat, y_val_flat))"
      ],
      "execution_count": null,
      "outputs": [
        {
          "output_type": "stream",
          "text": [
            "              precision    recall  f1-score   support\n",
            "\n",
            "           0       0.97      0.90      0.93    104363\n",
            "           1       0.79      0.90      0.84      4951\n",
            "           2       0.84      0.91      0.88      6936\n",
            "           3       0.60      0.86      0.71     14670\n",
            "\n",
            "    accuracy                           0.90    130920\n",
            "   macro avg       0.80      0.89      0.84    130920\n",
            "weighted avg       0.92      0.90      0.90    130920\n",
            "\n"
          ],
          "name": "stdout"
        }
      ]
    },
    {
      "cell_type": "markdown",
      "metadata": {
        "id": "GYDAM7efjM4Q"
      },
      "source": [
        "#BidirectionalLSTM + LSTM\n",
        "LearningRate-0.01\n",
        " Dropout for 1st Layer - 0.2 \n",
        " Dropout for 2nd layer - 0.1\n"
      ]
    },
    {
      "cell_type": "code",
      "metadata": {
        "id": "cr9BXYmOWLXx"
      },
      "source": [
        "def create_biLSTM():\n",
        "  model = Sequential()\n",
        "  model.add(Bidirectional(LSTM(100,return_sequences=True, input_shape=(40,6))))\n",
        "  model.add(Dropout(0.2))\n",
        "  model.add(LSTM(50, return_sequences=True, activation=\"relu\"))\n",
        "  model.add(Dropout(0.1))\n",
        "  model.add(Dense(25, activation=\"relu\"))\n",
        "  model.add(Dense(4, activation=\"softmax\"))\n",
        "  model.compile(optimizer=Adam(learning_rate=0.01),  loss='categorical_crossentropy', metrics = ['accuracy'])\n",
        "  return model"
      ],
      "execution_count": null,
      "outputs": []
    },
    {
      "cell_type": "code",
      "metadata": {
        "colab": {
          "base_uri": "https://localhost:8080/"
        },
        "id": "VFQTcfHWWR84",
        "outputId": "e4ead9a5-d9c4-4e3a-df0a-87d551c598ce"
      },
      "source": [
        "bilstm_model =create_biLSTM()\n",
        "\n",
        "history_bilstm = bilstm_model.fit(x_train, y_train, epochs=25, verbose=1, validation_data=(x_val, y_val))"
      ],
      "execution_count": null,
      "outputs": [
        {
          "output_type": "stream",
          "text": [
            "WARNING:tensorflow:Layer lstm_9 will not use cuDNN kernel since it doesn't meet the cuDNN kernel criteria. It will use generic GPU kernel as fallback when running on GPU\n",
            "Epoch 1/25\n",
            "921/921 [==============================] - 95s 65ms/step - loss: 0.6708 - accuracy: 0.7926 - val_loss: 0.3244 - val_accuracy: 0.8788\n",
            "Epoch 2/25\n",
            "921/921 [==============================] - 59s 64ms/step - loss: 0.2999 - accuracy: 0.8946 - val_loss: 0.2889 - val_accuracy: 0.9011\n",
            "Epoch 3/25\n",
            "921/921 [==============================] - 59s 64ms/step - loss: 0.2411 - accuracy: 0.9169 - val_loss: 0.2600 - val_accuracy: 0.9136\n",
            "Epoch 4/25\n",
            "921/921 [==============================] - 58s 63ms/step - loss: 0.2167 - accuracy: 0.9271 - val_loss: 0.2078 - val_accuracy: 0.9288\n",
            "Epoch 5/25\n",
            "921/921 [==============================] - 59s 64ms/step - loss: 0.2040 - accuracy: 0.9314 - val_loss: 0.3795 - val_accuracy: 0.8702\n",
            "Epoch 6/25\n",
            "921/921 [==============================] - 59s 64ms/step - loss: 0.2776 - accuracy: 0.9061 - val_loss: 0.2421 - val_accuracy: 0.9197\n",
            "Epoch 7/25\n",
            "921/921 [==============================] - 59s 64ms/step - loss: 0.2168 - accuracy: 0.9272 - val_loss: 0.2271 - val_accuracy: 0.9255\n",
            "Epoch 8/25\n",
            "921/921 [==============================] - 59s 64ms/step - loss: 0.1842 - accuracy: 0.9383 - val_loss: 0.2096 - val_accuracy: 0.9306\n",
            "Epoch 9/25\n",
            "921/921 [==============================] - 59s 64ms/step - loss: 5.2271 - accuracy: 0.8084 - val_loss: 0.8186 - val_accuracy: 0.7381\n",
            "Epoch 10/25\n",
            "921/921 [==============================] - 60s 65ms/step - loss: 0.8000 - accuracy: 0.7520 - val_loss: 0.8182 - val_accuracy: 0.7381\n",
            "Epoch 11/25\n",
            "921/921 [==============================] - 59s 64ms/step - loss: 0.7975 - accuracy: 0.7531 - val_loss: 0.8186 - val_accuracy: 0.7381\n",
            "Epoch 12/25\n",
            "921/921 [==============================] - 59s 64ms/step - loss: 0.7911 - accuracy: 0.7512 - val_loss: 0.8183 - val_accuracy: 0.7381\n",
            "Epoch 13/25\n",
            "921/921 [==============================] - 60s 65ms/step - loss: 0.7855 - accuracy: 0.7551 - val_loss: 0.8183 - val_accuracy: 0.7381\n",
            "Epoch 14/25\n",
            "921/921 [==============================] - 59s 64ms/step - loss: 0.8029 - accuracy: 0.7479 - val_loss: 0.8185 - val_accuracy: 0.7381\n",
            "Epoch 15/25\n",
            "921/921 [==============================] - 59s 64ms/step - loss: 0.7952 - accuracy: 0.7509 - val_loss: 0.8182 - val_accuracy: 0.7381\n",
            "Epoch 16/25\n",
            "921/921 [==============================] - 59s 64ms/step - loss: 0.7924 - accuracy: 0.7498 - val_loss: 0.8188 - val_accuracy: 0.7381\n",
            "Epoch 17/25\n",
            "921/921 [==============================] - 59s 64ms/step - loss: 0.7882 - accuracy: 0.7529 - val_loss: 0.8184 - val_accuracy: 0.7381\n",
            "Epoch 18/25\n",
            "921/921 [==============================] - 59s 64ms/step - loss: 0.7894 - accuracy: 0.7527 - val_loss: 0.8202 - val_accuracy: 0.7381\n",
            "Epoch 19/25\n",
            "921/921 [==============================] - 59s 64ms/step - loss: 0.8027 - accuracy: 0.7471 - val_loss: 0.8204 - val_accuracy: 0.7381\n",
            "Epoch 20/25\n",
            "921/921 [==============================] - 59s 64ms/step - loss: 0.7881 - accuracy: 0.7535 - val_loss: 0.8181 - val_accuracy: 0.7381\n",
            "Epoch 21/25\n",
            "921/921 [==============================] - 59s 64ms/step - loss: 0.7846 - accuracy: 0.7532 - val_loss: 0.8186 - val_accuracy: 0.7381\n",
            "Epoch 22/25\n",
            "921/921 [==============================] - 59s 64ms/step - loss: 0.7912 - accuracy: 0.7539 - val_loss: 0.8195 - val_accuracy: 0.7381\n",
            "Epoch 23/25\n",
            "921/921 [==============================] - 59s 64ms/step - loss: 0.7916 - accuracy: 0.7515 - val_loss: 0.8189 - val_accuracy: 0.7381\n",
            "Epoch 24/25\n",
            "921/921 [==============================] - 59s 64ms/step - loss: 0.7962 - accuracy: 0.7491 - val_loss: 0.8183 - val_accuracy: 0.7381\n",
            "Epoch 25/25\n",
            "921/921 [==============================] - 59s 64ms/step - loss: 0.7837 - accuracy: 0.7541 - val_loss: 0.8187 - val_accuracy: 0.7381\n"
          ],
          "name": "stdout"
        }
      ]
    },
    {
      "cell_type": "code",
      "metadata": {
        "colab": {
          "base_uri": "https://localhost:8080/"
        },
        "id": "ucBZCWYvQiS8",
        "outputId": "902cdd1d-8af2-450d-92fd-1c0cb3be7c59"
      },
      "source": [
        "print(bilstm_model.summary())"
      ],
      "execution_count": null,
      "outputs": [
        {
          "output_type": "stream",
          "text": [
            "Model: \"sequential_4\"\n",
            "_________________________________________________________________\n",
            "Layer (type)                 Output Shape              Param #   \n",
            "=================================================================\n",
            "bidirectional_4 (Bidirection (None, 40, 200)           85600     \n",
            "_________________________________________________________________\n",
            "dropout_8 (Dropout)          (None, 40, 200)           0         \n",
            "_________________________________________________________________\n",
            "lstm_9 (LSTM)                (None, 40, 50)            50200     \n",
            "_________________________________________________________________\n",
            "dropout_9 (Dropout)          (None, 40, 50)            0         \n",
            "_________________________________________________________________\n",
            "dense_8 (Dense)              (None, 40, 25)            1275      \n",
            "_________________________________________________________________\n",
            "dense_9 (Dense)              (None, 40, 4)             104       \n",
            "=================================================================\n",
            "Total params: 137,179\n",
            "Trainable params: 137,179\n",
            "Non-trainable params: 0\n",
            "_________________________________________________________________\n",
            "None\n"
          ],
          "name": "stdout"
        }
      ]
    },
    {
      "cell_type": "code",
      "metadata": {
        "colab": {
          "base_uri": "https://localhost:8080/",
          "height": 573
        },
        "id": "tZC8z0BlWd0O",
        "outputId": "c55b0520-cd5b-4264-c849-1b4044e5fa7a"
      },
      "source": [
        "#Plot the loss and accuracy for the model\n",
        "plot_history(history_bilstm)"
      ],
      "execution_count": null,
      "outputs": [
        {
          "output_type": "display_data",
          "data": {
            "image/png": "[encoded data removed]",
            "text/plain": [
              "<Figure size 432x288 with 1 Axes>"
            ]
          },
          "metadata": {
            "tags": [],
            "needs_background": "light"
          }
        },
        {
          "output_type": "display_data",
          "data": {
            "image/png": "[encoded data removed]",
            "text/plain": [
              "<Figure size 432x288 with 1 Axes>"
            ]
          },
          "metadata": {
            "tags": [],
            "needs_background": "light"
          }
        }
      ]
    },
    {
      "cell_type": "code",
      "metadata": {
        "colab": {
          "base_uri": "https://localhost:8080/"
        },
        "id": "7ZYSNm5vWix9",
        "outputId": "b2c3ad04-6a83-4f28-f94f-7d4511e979aa"
      },
      "source": [
        "from sklearn.metrics import classification_report\n",
        "\n",
        "y_val_pred = lstm_model.predict(x_val)\n",
        "y_val_pred_flat = flatten_pred(y_val_pred)\n",
        "y_val_flat = flatten_pred(y_val)\n",
        "print(classification_report(y_val_pred_flat, y_val_flat, zero_division = 1))"
      ],
      "execution_count": null,
      "outputs": [
        {
          "output_type": "stream",
          "text": [
            "              precision    recall  f1-score   support\n",
            "\n",
            "           0       1.00      0.74      0.85    130920\n",
            "           1       0.00      1.00      0.00         0\n",
            "           2       0.00      1.00      0.00         0\n",
            "           3       0.00      1.00      0.00         0\n",
            "\n",
            "    accuracy                           0.74    130920\n",
            "   macro avg       0.25      0.93      0.21    130920\n",
            "weighted avg       1.00      0.74      0.85    130920\n",
            "\n"
          ],
          "name": "stdout"
        }
      ]
    },
    {
      "cell_type": "markdown",
      "metadata": {
        "id": "zRyRFUfmYaKs"
      },
      "source": [
        "#BidirectionalLSTM + LSTM\n",
        "\n",
        "LearningRate-0.05\n",
        "Dropout for 1st Layer - 0.2\n",
        "Dropout for 2nd layer - 0.1"
      ]
    },
    {
      "cell_type": "code",
      "metadata": {
        "id": "fvbrI7fyYbfh"
      },
      "source": [
        "def create_LSTM3():\n",
        "  model = Sequential()\n",
        "  model.add(Bidirectional(LSTM(100,return_sequences=True, input_shape=(40,6))))\n",
        "  model.add(Dropout(0.2))\n",
        "  model.add(LSTM(50, return_sequences=True, activation=\"relu\"))\n",
        "  model.add(Dropout(0.1))\n",
        "  model.add(Dense(25, activation=\"relu\"))\n",
        "  model.add(Dense(4, activation=\"softmax\"))\n",
        "  model.compile(optimizer=Adam(learning_rate=0.05),  loss='categorical_crossentropy', metrics = ['accuracy'])\n",
        "  return model"
      ],
      "execution_count": null,
      "outputs": []
    },
    {
      "cell_type": "code",
      "metadata": {
        "colab": {
          "base_uri": "https://localhost:8080/"
        },
        "id": "SWmCWngJYnai",
        "outputId": "af5c6283-5a2c-4f56-8d04-589e05321e15"
      },
      "source": [
        "lstm3_model =create_LSTM3()\n",
        "history_lstm3 = lstm3_model.fit(x_train, y_train, epochs=25, verbose=1, validation_data=(x_val, y_val))"
      ],
      "execution_count": null,
      "outputs": [
        {
          "output_type": "stream",
          "text": [
            "WARNING:tensorflow:Layer lstm_1 will not use cuDNN kernel since it doesn't meet the cuDNN kernel criteria. It will use generic GPU kernel as fallback when running on GPU\n",
            "Epoch 1/25\n",
            "921/921 [==============================] - 94s 64ms/step - loss: 2623594548.8258 - accuracy: 0.7327 - val_loss: 0.8220 - val_accuracy: 0.7381\n",
            "Epoch 2/25\n",
            "921/921 [==============================] - 58s 63ms/step - loss: 0.7963 - accuracy: 0.7517 - val_loss: 0.8189 - val_accuracy: 0.7381\n",
            "Epoch 3/25\n",
            "921/921 [==============================] - 58s 63ms/step - loss: 0.7925 - accuracy: 0.7535 - val_loss: 0.8196 - val_accuracy: 0.7381\n",
            "Epoch 4/25\n",
            "921/921 [==============================] - 58s 63ms/step - loss: 1838.0487 - accuracy: 0.7487 - val_loss: 0.8239 - val_accuracy: 0.7381\n",
            "Epoch 5/25\n",
            "921/921 [==============================] - 58s 63ms/step - loss: 0.7965 - accuracy: 0.7540 - val_loss: 0.8191 - val_accuracy: 0.7381\n",
            "Epoch 6/25\n",
            "921/921 [==============================] - 58s 63ms/step - loss: 0.8018 - accuracy: 0.7510 - val_loss: 0.8191 - val_accuracy: 0.7381\n",
            "Epoch 7/25\n",
            "921/921 [==============================] - 59s 64ms/step - loss: 0.7988 - accuracy: 0.7491 - val_loss: 0.8223 - val_accuracy: 0.7381\n",
            "Epoch 8/25\n",
            "921/921 [==============================] - 58s 63ms/step - loss: 0.7971 - accuracy: 0.7508 - val_loss: 0.8191 - val_accuracy: 0.7381\n",
            "Epoch 9/25\n",
            "921/921 [==============================] - 58s 63ms/step - loss: 0.7936 - accuracy: 0.7516 - val_loss: 0.8189 - val_accuracy: 0.7381\n",
            "Epoch 10/25\n",
            "921/921 [==============================] - 58s 63ms/step - loss: 0.7810 - accuracy: 0.7590 - val_loss: 0.8193 - val_accuracy: 0.7381\n",
            "Epoch 11/25\n",
            "921/921 [==============================] - 58s 63ms/step - loss: 0.7814 - accuracy: 0.7585 - val_loss: 0.8195 - val_accuracy: 0.7381\n",
            "Epoch 12/25\n",
            "921/921 [==============================] - 58s 63ms/step - loss: 0.7925 - accuracy: 0.7517 - val_loss: 0.8196 - val_accuracy: 0.7381\n",
            "Epoch 13/25\n",
            "921/921 [==============================] - 58s 63ms/step - loss: 0.7935 - accuracy: 0.7519 - val_loss: 0.8193 - val_accuracy: 0.7381\n",
            "Epoch 14/25\n",
            "921/921 [==============================] - 58s 63ms/step - loss: 0.7978 - accuracy: 0.7489 - val_loss: 0.8229 - val_accuracy: 0.7381\n",
            "Epoch 15/25\n",
            "921/921 [==============================] - 58s 63ms/step - loss: 0.7886 - accuracy: 0.7553 - val_loss: 0.8275 - val_accuracy: 0.7381\n",
            "Epoch 16/25\n",
            "921/921 [==============================] - 58s 63ms/step - loss: 0.8034 - accuracy: 0.7492 - val_loss: 0.8207 - val_accuracy: 0.7381\n",
            "Epoch 17/25\n",
            "921/921 [==============================] - 58s 63ms/step - loss: 0.7973 - accuracy: 0.7526 - val_loss: 0.8239 - val_accuracy: 0.7381\n",
            "Epoch 18/25\n",
            "921/921 [==============================] - 58s 63ms/step - loss: 0.7887 - accuracy: 0.7552 - val_loss: 0.8206 - val_accuracy: 0.7381\n",
            "Epoch 19/25\n",
            "921/921 [==============================] - 58s 63ms/step - loss: 0.7876 - accuracy: 0.7542 - val_loss: 0.8218 - val_accuracy: 0.7381\n",
            "Epoch 20/25\n",
            "921/921 [==============================] - 58s 63ms/step - loss: 0.7942 - accuracy: 0.7517 - val_loss: 0.8187 - val_accuracy: 0.7381\n",
            "Epoch 21/25\n",
            "921/921 [==============================] - 58s 63ms/step - loss: 0.7978 - accuracy: 0.7526 - val_loss: 0.8198 - val_accuracy: 0.7381\n",
            "Epoch 22/25\n",
            "921/921 [==============================] - 58s 63ms/step - loss: 0.8098 - accuracy: 0.7503 - val_loss: 0.8181 - val_accuracy: 0.7381\n",
            "Epoch 23/25\n",
            "921/921 [==============================] - 58s 63ms/step - loss: 130608.1011 - accuracy: 0.7527 - val_loss: 0.9145 - val_accuracy: 0.7380\n",
            "Epoch 24/25\n",
            "921/921 [==============================] - 58s 63ms/step - loss: 5.5969 - accuracy: 0.7530 - val_loss: 0.8964 - val_accuracy: 0.7381\n",
            "Epoch 25/25\n",
            "921/921 [==============================] - 58s 63ms/step - loss: 0.8664 - accuracy: 0.7508 - val_loss: 0.8213 - val_accuracy: 0.7381\n"
          ],
          "name": "stdout"
        }
      ]
    },
    {
      "cell_type": "code",
      "metadata": {
        "colab": {
          "base_uri": "https://localhost:8080/"
        },
        "id": "MzrN4Z7wYsSu",
        "outputId": "dfddf299-1bee-4335-9474-e0177df37e89"
      },
      "source": [
        "lstm3_model.summary()"
      ],
      "execution_count": null,
      "outputs": [
        {
          "output_type": "stream",
          "text": [
            "Model: \"sequential\"\n",
            "_________________________________________________________________\n",
            "Layer (type)                 Output Shape              Param #   \n",
            "=================================================================\n",
            "bidirectional (Bidirectional (None, 40, 200)           85600     \n",
            "_________________________________________________________________\n",
            "dropout (Dropout)            (None, 40, 200)           0         \n",
            "_________________________________________________________________\n",
            "lstm_1 (LSTM)                (None, 40, 50)            50200     \n",
            "_________________________________________________________________\n",
            "dropout_1 (Dropout)          (None, 40, 50)            0         \n",
            "_________________________________________________________________\n",
            "dense (Dense)                (None, 40, 25)            1275      \n",
            "_________________________________________________________________\n",
            "dense_1 (Dense)              (None, 40, 4)             104       \n",
            "=================================================================\n",
            "Total params: 137,179\n",
            "Trainable params: 137,179\n",
            "Non-trainable params: 0\n",
            "_________________________________________________________________\n"
          ],
          "name": "stdout"
        }
      ]
    },
    {
      "cell_type": "code",
      "metadata": {
        "colab": {
          "base_uri": "https://localhost:8080/",
          "height": 573
        },
        "id": "goToQHOwYylF",
        "outputId": "fc7aa30d-ada8-4d99-c28b-6930bc23164e"
      },
      "source": [
        "#Plot the loss and accuracy for the model\n",
        "plot_history(history_lstm3)"
      ],
      "execution_count": null,
      "outputs": [
        {
          "output_type": "display_data",
          "data": {
            "image/png": "[encoded data removed]",
            "text/plain": [
              "<Figure size 432x288 with 1 Axes>"
            ]
          },
          "metadata": {
            "tags": [],
            "needs_background": "light"
          }
        },
        {
          "output_type": "display_data",
          "data": {
            "image/png": "[encoded data removed]",
            "text/plain": [
              "<Figure size 432x288 with 1 Axes>"
            ]
          },
          "metadata": {
            "tags": [],
            "needs_background": "light"
          }
        }
      ]
    },
    {
      "cell_type": "code",
      "metadata": {
        "colab": {
          "base_uri": "https://localhost:8080/"
        },
        "id": "8ANZ8-pjY4c0",
        "outputId": "7875afe2-67ee-4c16-f00c-837783e49d3d"
      },
      "source": [
        "from sklearn.metrics import classification_report\n",
        "\n",
        "y_val_pred = lstm3_model.predict(x_val)\n",
        "y_val_pred_flat = flatten_pred(y_val_pred)\n",
        "y_val_flat = flatten_pred(y_val)\n",
        "print(classification_report(y_val_pred_flat, y_val_flat))"
      ],
      "execution_count": null,
      "outputs": [
        {
          "output_type": "stream",
          "text": [
            "              precision    recall  f1-score   support\n",
            "\n",
            "           0       1.00      0.74      0.85    130920\n",
            "           1       0.00      0.00      0.00         0\n",
            "           2       0.00      0.00      0.00         0\n",
            "           3       0.00      0.00      0.00         0\n",
            "\n",
            "    accuracy                           0.74    130920\n",
            "   macro avg       0.25      0.18      0.21    130920\n",
            "weighted avg       1.00      0.74      0.85    130920\n",
            "\n"
          ],
          "name": "stdout"
        },
        {
          "output_type": "stream",
          "text": [
            "/usr/local/lib/python3.7/dist-packages/sklearn/metrics/_classification.py:1272: UndefinedMetricWarning: Recall and F-score are ill-defined and being set to 0.0 in labels with no true samples. Use `zero_division` parameter to control this behavior.\n",
            "  _warn_prf(average, modifier, msg_start, len(result))\n"
          ],
          "name": "stderr"
        }
      ]
    },
    {
      "cell_type": "markdown",
      "metadata": {
        "id": "yElkQwiETANJ"
      },
      "source": [
        "#BidirectionalLSTM + LSTM \n",
        "Learning Rate - 0.001\n",
        "Dropout for 1st Layer - 0.1\n",
        "Dropout for 2nd layer - 0.1"
      ]
    },
    {
      "cell_type": "code",
      "metadata": {
        "colab": {
          "base_uri": "https://localhost:8080/"
        },
        "id": "UV538J0lQ269",
        "outputId": "af802aa4-9215-4666-a644-6de610b3518a"
      },
      "source": [
        "x_train.shape"
      ],
      "execution_count": 25,
      "outputs": [
        {
          "output_type": "execute_result",
          "data": {
            "text/plain": [
              "(29449, 40, 6)"
            ]
          },
          "metadata": {
            "tags": []
          },
          "execution_count": 25
        }
      ]
    },
    {
      "cell_type": "code",
      "metadata": {
        "id": "qzr6EnRfTldg"
      },
      "source": [
        "def create_LSTM_dropout_tuning():\n",
        "  model = Sequential()\n",
        "  model.add(Bidirectional(LSTM(100,return_sequences=True, input_shape=(40,6))))\n",
        "  model.add(Dropout(0.1))\n",
        "  model.add(LSTM(50, return_sequences=True, activation=\"relu\"))\n",
        "  model.add(Dropout(0.1))\n",
        "  model.add(Dense(25, activation=\"relu\"))\n",
        "  model.add(Dense(4, activation=\"softmax\"))\n",
        "  model.compile(optimizer=Adam(learning_rate=0.001),  loss='categorical_crossentropy', metrics = ['accuracy'])\n",
        "  return model"
      ],
      "execution_count": 27,
      "outputs": []
    },
    {
      "cell_type": "code",
      "metadata": {
        "colab": {
          "base_uri": "https://localhost:8080/"
        },
        "id": "rPLHahdeT0Gw",
        "outputId": "3d8b82f5-909e-4fa6-fce1-e5fa1db8f9a8"
      },
      "source": [
        "\n",
        "lstm_dropout_tuning =create_LSTM_dropout_tuning()\n",
        "history_lstm_dropout1 = lstm_dropout_tuning.fit(x_train, y_train, epochs=25, verbose=1, validation_data=(x_val, y_val))"
      ],
      "execution_count": 30,
      "outputs": [
        {
          "output_type": "stream",
          "text": [
            "WARNING:tensorflow:Layer lstm_5 will not use cuDNN kernel since it doesn't meet the cuDNN kernel criteria. It will use generic GPU kernel as fallback when running on GPU\n",
            "Epoch 1/25\n",
            "921/921 [==============================] - 66s 67ms/step - loss: 0.6327 - accuracy: 0.7764 - val_loss: 0.3259 - val_accuracy: 0.8859\n",
            "Epoch 2/25\n",
            "921/921 [==============================] - 60s 65ms/step - loss: 0.3125 - accuracy: 0.8875 - val_loss: 0.2830 - val_accuracy: 0.9055\n",
            "Epoch 3/25\n",
            "921/921 [==============================] - 60s 65ms/step - loss: 0.2626 - accuracy: 0.9116 - val_loss: 0.2331 - val_accuracy: 0.9218\n",
            "Epoch 4/25\n",
            "921/921 [==============================] - 59s 64ms/step - loss: 0.2251 - accuracy: 0.9233 - val_loss: 0.2100 - val_accuracy: 0.9310\n",
            "Epoch 5/25\n",
            "921/921 [==============================] - 59s 64ms/step - loss: 0.2053 - accuracy: 0.9312 - val_loss: 0.1904 - val_accuracy: 0.9386\n",
            "Epoch 6/25\n",
            "921/921 [==============================] - 59s 64ms/step - loss: 0.1863 - accuracy: 0.9364 - val_loss: 0.1813 - val_accuracy: 0.9386\n",
            "Epoch 7/25\n",
            "921/921 [==============================] - 60s 65ms/step - loss: 0.1732 - accuracy: 0.9403 - val_loss: 0.2092 - val_accuracy: 0.9342\n",
            "Epoch 8/25\n",
            "921/921 [==============================] - 60s 65ms/step - loss: 0.1669 - accuracy: 0.9436 - val_loss: 0.1715 - val_accuracy: 0.9420\n",
            "Epoch 9/25\n",
            "921/921 [==============================] - 60s 65ms/step - loss: 0.1548 - accuracy: 0.9483 - val_loss: 0.1714 - val_accuracy: 0.9428\n",
            "Epoch 10/25\n",
            "921/921 [==============================] - 59s 65ms/step - loss: 0.1399 - accuracy: 0.9531 - val_loss: 0.1739 - val_accuracy: 0.9462\n",
            "Epoch 11/25\n",
            "921/921 [==============================] - 60s 65ms/step - loss: 0.1372 - accuracy: 0.9536 - val_loss: 0.1649 - val_accuracy: 0.9449\n",
            "Epoch 12/25\n",
            "921/921 [==============================] - 60s 65ms/step - loss: 0.1274 - accuracy: 0.9565 - val_loss: 0.1790 - val_accuracy: 0.9417\n",
            "Epoch 13/25\n",
            "921/921 [==============================] - 60s 65ms/step - loss: 0.1204 - accuracy: 0.9597 - val_loss: 0.1587 - val_accuracy: 0.9478\n",
            "Epoch 14/25\n",
            "921/921 [==============================] - 60s 65ms/step - loss: 0.1140 - accuracy: 0.9613 - val_loss: 0.1723 - val_accuracy: 0.9451\n",
            "Epoch 15/25\n",
            "921/921 [==============================] - 60s 65ms/step - loss: 0.1034 - accuracy: 0.9651 - val_loss: 0.1495 - val_accuracy: 0.9522\n",
            "Epoch 16/25\n",
            "921/921 [==============================] - 60s 65ms/step - loss: 0.0966 - accuracy: 0.9674 - val_loss: 0.1718 - val_accuracy: 0.9472\n",
            "Epoch 17/25\n",
            "921/921 [==============================] - 60s 65ms/step - loss: 0.0955 - accuracy: 0.9689 - val_loss: 0.1689 - val_accuracy: 0.9514\n",
            "Epoch 18/25\n",
            "921/921 [==============================] - 60s 65ms/step - loss: 0.0864 - accuracy: 0.9718 - val_loss: 0.1657 - val_accuracy: 0.9524\n",
            "Epoch 19/25\n",
            "921/921 [==============================] - 59s 65ms/step - loss: 0.0856 - accuracy: 0.9715 - val_loss: 0.1640 - val_accuracy: 0.9526\n",
            "Epoch 20/25\n",
            "921/921 [==============================] - 60s 65ms/step - loss: 0.0846 - accuracy: 0.9717 - val_loss: 0.1888 - val_accuracy: 0.9447\n",
            "Epoch 21/25\n",
            "921/921 [==============================] - 60s 65ms/step - loss: 0.0796 - accuracy: 0.9738 - val_loss: 0.1799 - val_accuracy: 0.9508\n",
            "Epoch 22/25\n",
            "921/921 [==============================] - 60s 65ms/step - loss: 0.0709 - accuracy: 0.9768 - val_loss: 0.1787 - val_accuracy: 0.9483\n",
            "Epoch 23/25\n",
            "921/921 [==============================] - 59s 65ms/step - loss: 0.0708 - accuracy: 0.9761 - val_loss: 0.2223 - val_accuracy: 0.9396\n",
            "Epoch 24/25\n",
            "921/921 [==============================] - 59s 64ms/step - loss: 0.0709 - accuracy: 0.9768 - val_loss: 0.1856 - val_accuracy: 0.9466\n",
            "Epoch 25/25\n",
            "921/921 [==============================] - 59s 64ms/step - loss: 0.0697 - accuracy: 0.9774 - val_loss: 0.1659 - val_accuracy: 0.9547\n"
          ],
          "name": "stdout"
        }
      ]
    },
    {
      "cell_type": "code",
      "metadata": {
        "colab": {
          "base_uri": "https://localhost:8080/"
        },
        "id": "YGmzCMceUUEz",
        "outputId": "b1a0ec25-7ae8-429c-f4f1-800b06454292"
      },
      "source": [
        "lstm_dropout_tuning.summary()"
      ],
      "execution_count": 53,
      "outputs": [
        {
          "output_type": "stream",
          "text": [
            "Model: \"sequential_2\"\n",
            "_________________________________________________________________\n",
            "Layer (type)                 Output Shape              Param #   \n",
            "=================================================================\n",
            "bidirectional_2 (Bidirection (None, 40, 200)           85600     \n",
            "_________________________________________________________________\n",
            "dropout_4 (Dropout)          (None, 40, 200)           0         \n",
            "_________________________________________________________________\n",
            "lstm_5 (LSTM)                (None, 40, 50)            50200     \n",
            "_________________________________________________________________\n",
            "dropout_5 (Dropout)          (None, 40, 50)            0         \n",
            "_________________________________________________________________\n",
            "dense_4 (Dense)              (None, 40, 25)            1275      \n",
            "_________________________________________________________________\n",
            "dense_5 (Dense)              (None, 40, 4)             104       \n",
            "=================================================================\n",
            "Total params: 137,179\n",
            "Trainable params: 137,179\n",
            "Non-trainable params: 0\n",
            "_________________________________________________________________\n"
          ],
          "name": "stdout"
        }
      ]
    },
    {
      "cell_type": "code",
      "metadata": {
        "colab": {
          "base_uri": "https://localhost:8080/"
        },
        "id": "v3S6OhhAdRpk",
        "outputId": "a346d0ec-8d38-4ece-cb37-ff83780a5e08"
      },
      "source": [
        "from sklearn.metrics import classification_report\n",
        "\n",
        "y_val_pred = lstm_dropout_tuning.predict(x_val)\n",
        "y_val_pred_flat = flatten_pred(y_val_pred)\n",
        "y_val_flat = flatten_pred(y_val)\n",
        "print(classification_report(y_val_pred_flat, y_val_flat))"
      ],
      "execution_count": 35,
      "outputs": [
        {
          "output_type": "stream",
          "text": [
            "              precision    recall  f1-score   support\n",
            "\n",
            "           0       0.97      0.97      0.97     97193\n",
            "           1       0.94      0.90      0.92      5877\n",
            "           2       0.96      0.94      0.95      7604\n",
            "           3       0.88      0.92      0.90     20246\n",
            "\n",
            "    accuracy                           0.95    130920\n",
            "   macro avg       0.94      0.93      0.93    130920\n",
            "weighted avg       0.96      0.95      0.95    130920\n",
            "\n"
          ],
          "name": "stdout"
        }
      ]
    },
    {
      "cell_type": "markdown",
      "metadata": {
        "id": "vU67zmoIXESr"
      },
      "source": [
        "#BidirectionalLSTM +LSTM\n",
        "\n",
        "Learning Rate - 0.001\n",
        "Dropout for 1st Layer - 0.2\n",
        "Dropout for 2nd layer - 0.2\n"
      ]
    },
    {
      "cell_type": "code",
      "metadata": {
        "id": "IBk9lGeKXRzg"
      },
      "source": [
        "def create_biLSTM1():\n",
        "  model = Sequential()\n",
        "  model.add(Bidirectional(LSTM(100,return_sequences=True, input_shape=(40,6))))\n",
        "  model.add(Dropout(0.2))\n",
        "  model.add(LSTM(50, return_sequences=True, activation=\"relu\"))\n",
        "  model.add(Dropout(0.2))\n",
        "  model.add(Dense(25, activation=\"relu\"))\n",
        "  model.add(Dense(4, activation=\"softmax\"))\n",
        "  model.compile(optimizer=Adam(learning_rate=0.001),  loss='categorical_crossentropy', metrics = ['accuracy'])\n",
        "  return model"
      ],
      "execution_count": null,
      "outputs": []
    },
    {
      "cell_type": "code",
      "metadata": {
        "colab": {
          "base_uri": "https://localhost:8080/"
        },
        "id": "bJfHYSP8XXXR",
        "outputId": "0943258b-5787-4891-e8ba-ed83e04eecbe"
      },
      "source": [
        "biLSTM1_model =create_biLSTM1()\n",
        "history_biLSTM1 = biLSTM1_model.fit(x_train, y_train, epochs=25, verbose=1, validation_data=(x_val, y_val))"
      ],
      "execution_count": null,
      "outputs": [
        {
          "output_type": "stream",
          "text": [
            "WARNING:tensorflow:Layer lstm_1 will not use cuDNN kernel since it doesn't meet the cuDNN kernel criteria. It will use generic GPU kernel as fallback when running on GPU\n",
            "Epoch 1/25\n",
            "921/921 [==============================] - 96s 66ms/step - loss: 0.5903 - accuracy: 0.7948 - val_loss: 0.3510 - val_accuracy: 0.8810\n",
            "Epoch 2/25\n",
            "921/921 [==============================] - 59s 64ms/step - loss: 0.3254 - accuracy: 0.8819 - val_loss: 0.2757 - val_accuracy: 0.9008\n",
            "Epoch 3/25\n",
            "921/921 [==============================] - 59s 64ms/step - loss: 0.2590 - accuracy: 0.9112 - val_loss: 0.2377 - val_accuracy: 0.9227\n",
            "Epoch 4/25\n",
            "921/921 [==============================] - 60s 65ms/step - loss: 0.2296 - accuracy: 0.9215 - val_loss: 0.2276 - val_accuracy: 0.9182\n",
            "Epoch 5/25\n",
            "921/921 [==============================] - 59s 64ms/step - loss: 0.2103 - accuracy: 0.9282 - val_loss: 0.2099 - val_accuracy: 0.9277\n",
            "Epoch 6/25\n",
            "921/921 [==============================] - 59s 64ms/step - loss: 0.1914 - accuracy: 0.9336 - val_loss: 0.1850 - val_accuracy: 0.9361\n",
            "Epoch 7/25\n",
            "921/921 [==============================] - 60s 65ms/step - loss: 0.1819 - accuracy: 0.9386 - val_loss: 0.1839 - val_accuracy: 0.9388\n",
            "Epoch 8/25\n",
            "921/921 [==============================] - 58s 63ms/step - loss: 0.1658 - accuracy: 0.9457 - val_loss: 0.1834 - val_accuracy: 0.9394\n",
            "Epoch 9/25\n",
            "921/921 [==============================] - 59s 64ms/step - loss: 0.1607 - accuracy: 0.9455 - val_loss: 0.1948 - val_accuracy: 0.9390\n",
            "Epoch 10/25\n",
            "921/921 [==============================] - 59s 64ms/step - loss: 0.1530 - accuracy: 0.9487 - val_loss: 0.1705 - val_accuracy: 0.9417\n",
            "Epoch 11/25\n",
            "921/921 [==============================] - 59s 64ms/step - loss: 0.1378 - accuracy: 0.9544 - val_loss: 0.1672 - val_accuracy: 0.9476\n",
            "Epoch 12/25\n",
            "921/921 [==============================] - 59s 64ms/step - loss: 0.1326 - accuracy: 0.9543 - val_loss: 0.1728 - val_accuracy: 0.9395\n",
            "Epoch 13/25\n",
            "921/921 [==============================] - 59s 64ms/step - loss: 0.1317 - accuracy: 0.9555 - val_loss: 0.1653 - val_accuracy: 0.9446\n",
            "Epoch 14/25\n",
            "921/921 [==============================] - 59s 64ms/step - loss: 0.1139 - accuracy: 0.9631 - val_loss: 0.1578 - val_accuracy: 0.9492\n",
            "Epoch 15/25\n",
            "921/921 [==============================] - 58s 64ms/step - loss: 0.1038 - accuracy: 0.9657 - val_loss: 0.1794 - val_accuracy: 0.9438\n",
            "Epoch 16/25\n",
            "921/921 [==============================] - 60s 65ms/step - loss: 0.1050 - accuracy: 0.9648 - val_loss: 0.1750 - val_accuracy: 0.9473\n",
            "Epoch 17/25\n",
            "921/921 [==============================] - 59s 64ms/step - loss: 0.0964 - accuracy: 0.9682 - val_loss: 0.1825 - val_accuracy: 0.9404\n",
            "Epoch 18/25\n",
            "921/921 [==============================] - 61s 66ms/step - loss: 0.0914 - accuracy: 0.9702 - val_loss: 0.1743 - val_accuracy: 0.9461\n",
            "Epoch 19/25\n",
            "921/921 [==============================] - 59s 64ms/step - loss: 0.0945 - accuracy: 0.9686 - val_loss: 0.1819 - val_accuracy: 0.9432\n",
            "Epoch 20/25\n",
            "921/921 [==============================] - 59s 64ms/step - loss: 0.0813 - accuracy: 0.9727 - val_loss: 0.1815 - val_accuracy: 0.9476\n",
            "Epoch 21/25\n",
            "921/921 [==============================] - 59s 64ms/step - loss: 0.0800 - accuracy: 0.9740 - val_loss: 0.1660 - val_accuracy: 0.9457\n",
            "Epoch 22/25\n",
            "921/921 [==============================] - 58s 63ms/step - loss: 0.0755 - accuracy: 0.9751 - val_loss: 0.1682 - val_accuracy: 0.9492\n",
            "Epoch 23/25\n",
            "921/921 [==============================] - 58s 63ms/step - loss: 0.0749 - accuracy: 0.9761 - val_loss: 0.1807 - val_accuracy: 0.9422\n",
            "Epoch 24/25\n",
            "921/921 [==============================] - 58s 63ms/step - loss: 0.0673 - accuracy: 0.9790 - val_loss: 0.1850 - val_accuracy: 0.9496\n",
            "Epoch 25/25\n",
            "921/921 [==============================] - 58s 63ms/step - loss: 0.0620 - accuracy: 0.9798 - val_loss: 0.1857 - val_accuracy: 0.9501\n"
          ],
          "name": "stdout"
        }
      ]
    },
    {
      "cell_type": "code",
      "metadata": {
        "id": "ey0lbEiWUPAO",
        "colab": {
          "base_uri": "https://localhost:8080/"
        },
        "outputId": "deb20f3b-6b11-4957-92d8-2c69b1527154"
      },
      "source": [
        "biLSTM1_model.summary()"
      ],
      "execution_count": null,
      "outputs": [
        {
          "output_type": "stream",
          "text": [
            "Model: \"sequential\"\n",
            "_________________________________________________________________\n",
            "Layer (type)                 Output Shape              Param #   \n",
            "=================================================================\n",
            "bidirectional (Bidirectional (None, 40, 200)           85600     \n",
            "_________________________________________________________________\n",
            "dropout (Dropout)            (None, 40, 200)           0         \n",
            "_________________________________________________________________\n",
            "lstm_1 (LSTM)                (None, 40, 50)            50200     \n",
            "_________________________________________________________________\n",
            "dropout_1 (Dropout)          (None, 40, 50)            0         \n",
            "_________________________________________________________________\n",
            "dense (Dense)                (None, 40, 25)            1275      \n",
            "_________________________________________________________________\n",
            "dense_1 (Dense)              (None, 40, 4)             104       \n",
            "=================================================================\n",
            "Total params: 137,179\n",
            "Trainable params: 137,179\n",
            "Non-trainable params: 0\n",
            "_________________________________________________________________\n"
          ],
          "name": "stdout"
        }
      ]
    },
    {
      "cell_type": "code",
      "metadata": {
        "colab": {
          "base_uri": "https://localhost:8080/",
          "height": 573
        },
        "id": "xLMPUq1KXo3R",
        "outputId": "6516894c-2106-439d-94bb-40934b66b5d8"
      },
      "source": [
        "#Plot the loss and accuracy for the model\n",
        "plot_history(history_biLSTM1)"
      ],
      "execution_count": null,
      "outputs": [
        {
          "output_type": "display_data",
          "data": {
            "image/png": "[encoded data removed]",
            "text/plain": [
              "<Figure size 432x288 with 1 Axes>"
            ]
          },
          "metadata": {
            "tags": [],
            "needs_background": "light"
          }
        },
        {
          "output_type": "display_data",
          "data": {
            "image/png": "[encoded data removed]",
            "text/plain": [
              "<Figure size 432x288 with 1 Axes>"
            ]
          },
          "metadata": {
            "tags": [],
            "needs_background": "light"
          }
        }
      ]
    },
    {
      "cell_type": "code",
      "metadata": {
        "colab": {
          "base_uri": "https://localhost:8080/"
        },
        "id": "dFc3yrqeXuGw",
        "outputId": "f30849a3-8696-4303-e3b6-356ee10f6a92"
      },
      "source": [
        "from sklearn.metrics import classification_report\n",
        "\n",
        "y_val_pred = biLSTM1_model.predict(x_val)\n",
        "y_val_pred_flat = flatten_pred(y_val_pred)\n",
        "y_val_flat = flatten_pred(y_val)\n",
        "print(classification_report(y_val_pred_flat, y_val_flat))"
      ],
      "execution_count": null,
      "outputs": [
        {
          "output_type": "stream",
          "text": [
            "              precision    recall  f1-score   support\n",
            "\n",
            "           0       0.97      0.96      0.97     97633\n",
            "           1       0.92      0.95      0.93      5511\n",
            "           2       0.95      0.93      0.94      7653\n",
            "           3       0.86      0.90      0.88     20123\n",
            "\n",
            "    accuracy                           0.95    130920\n",
            "   macro avg       0.92      0.93      0.93    130920\n",
            "weighted avg       0.95      0.95      0.95    130920\n",
            "\n"
          ],
          "name": "stdout"
        }
      ]
    },
    {
      "cell_type": "markdown",
      "metadata": {
        "id": "gbihG0R0ns3c"
      },
      "source": [
        "#BidirectionalLSTM + LSTM\n",
        "\n",
        "Learning Rate - 0.001\n",
        "Dropout for 1st Layer - 0.2\n",
        "Dropout for 2nd layer - 0.1"
      ]
    },
    {
      "cell_type": "code",
      "metadata": {
        "colab": {
          "base_uri": "https://localhost:8080/"
        },
        "id": "vnvj8atap_IX",
        "outputId": "5d862068-8bdc-415b-d37e-cdc6ad252cb9"
      },
      "source": [
        "x_train.shape"
      ],
      "execution_count": 16,
      "outputs": [
        {
          "output_type": "execute_result",
          "data": {
            "text/plain": [
              "(29449, 40, 6)"
            ]
          },
          "metadata": {
            "tags": []
          },
          "execution_count": 16
        }
      ]
    },
    {
      "cell_type": "code",
      "metadata": {
        "id": "F52u9zfonvq2"
      },
      "source": [
        "def create_LSTM():\n",
        "  model = Sequential()\n",
        "  model.add(Bidirectional(LSTM(100,return_sequences=True, input_shape=(40,6))))\n",
        "  model.add(Dropout(0.2))\n",
        "  model.add(LSTM(50, return_sequences=True, activation=\"relu\"))\n",
        "  model.add(Dropout(0.1))\n",
        "  model.add(Dense(25, activation=\"relu\"))\n",
        "  model.add(Dense(4, activation=\"softmax\"))\n",
        "  model.compile(optimizer=Adam(learning_rate=0.001),  loss='categorical_crossentropy', metrics = ['accuracy'])\n",
        "  return model"
      ],
      "execution_count": 17,
      "outputs": []
    },
    {
      "cell_type": "code",
      "metadata": {
        "colab": {
          "base_uri": "https://localhost:8080/"
        },
        "id": "02Q-n-hDpulg",
        "outputId": "c79769b0-8490-414e-e5e7-7f1ea57ee924"
      },
      "source": [
        "lstm_model.summary()\n",
        "lstm_model =create_LSTM()\n",
        "history_lstm = lstm_model.fit(x_train, y_train, epochs=25, verbose=1, validation_data=(x_val, y_val))"
      ],
      "execution_count": 20,
      "outputs": [
        {
          "output_type": "stream",
          "text": [
            "Model: \"sequential\"\n",
            "_________________________________________________________________\n",
            "Layer (type)                 Output Shape              Param #   \n",
            "=================================================================\n",
            "bidirectional (Bidirectional (None, 40, 200)           85600     \n",
            "_________________________________________________________________\n",
            "dropout (Dropout)            (None, 40, 200)           0         \n",
            "_________________________________________________________________\n",
            "lstm_1 (LSTM)                (None, 40, 50)            50200     \n",
            "_________________________________________________________________\n",
            "dropout_1 (Dropout)          (None, 40, 50)            0         \n",
            "_________________________________________________________________\n",
            "dense (Dense)                (None, 40, 25)            1275      \n",
            "_________________________________________________________________\n",
            "dense_1 (Dense)              (None, 40, 4)             104       \n",
            "=================================================================\n",
            "Total params: 137,179\n",
            "Trainable params: 137,179\n",
            "Non-trainable params: 0\n",
            "_________________________________________________________________\n",
            "WARNING:tensorflow:Layer lstm_3 will not use cuDNN kernel since it doesn't meet the cuDNN kernel criteria. It will use generic GPU kernel as fallback when running on GPU\n",
            "Epoch 1/25\n",
            "921/921 [==============================] - 65s 67ms/step - loss: 0.6113 - accuracy: 0.7859 - val_loss: 0.3276 - val_accuracy: 0.8856\n",
            "Epoch 2/25\n",
            "921/921 [==============================] - 60s 66ms/step - loss: 0.3060 - accuracy: 0.8914 - val_loss: 0.2488 - val_accuracy: 0.9178\n",
            "Epoch 3/25\n",
            "921/921 [==============================] - 61s 66ms/step - loss: 0.2542 - accuracy: 0.9113 - val_loss: 0.2672 - val_accuracy: 0.8997\n",
            "Epoch 4/25\n",
            "921/921 [==============================] - 61s 66ms/step - loss: 0.2217 - accuracy: 0.9243 - val_loss: 0.2224 - val_accuracy: 0.9259\n",
            "Epoch 5/25\n",
            "921/921 [==============================] - 60s 66ms/step - loss: 0.1973 - accuracy: 0.9329 - val_loss: 0.1951 - val_accuracy: 0.9351\n",
            "Epoch 6/25\n",
            "921/921 [==============================] - 61s 66ms/step - loss: 0.1848 - accuracy: 0.9379 - val_loss: 0.1836 - val_accuracy: 0.9394\n",
            "Epoch 7/25\n",
            "921/921 [==============================] - 61s 66ms/step - loss: 0.1735 - accuracy: 0.9408 - val_loss: 0.1918 - val_accuracy: 0.9353\n",
            "Epoch 8/25\n",
            "921/921 [==============================] - 61s 66ms/step - loss: 0.1593 - accuracy: 0.9455 - val_loss: 0.1788 - val_accuracy: 0.9399\n",
            "Epoch 9/25\n",
            "921/921 [==============================] - 61s 66ms/step - loss: 0.1514 - accuracy: 0.9490 - val_loss: 0.1812 - val_accuracy: 0.9379\n",
            "Epoch 10/25\n",
            "921/921 [==============================] - 61s 66ms/step - loss: 0.1425 - accuracy: 0.9520 - val_loss: 0.1762 - val_accuracy: 0.9435\n",
            "Epoch 11/25\n",
            "921/921 [==============================] - 60s 65ms/step - loss: 0.1387 - accuracy: 0.9533 - val_loss: 0.1799 - val_accuracy: 0.9443\n",
            "Epoch 12/25\n",
            "921/921 [==============================] - 60s 65ms/step - loss: 0.1254 - accuracy: 0.9581 - val_loss: 0.1654 - val_accuracy: 0.9490\n",
            "Epoch 13/25\n",
            "921/921 [==============================] - 61s 66ms/step - loss: 0.1217 - accuracy: 0.9578 - val_loss: 0.1717 - val_accuracy: 0.9473\n",
            "Epoch 14/25\n",
            "921/921 [==============================] - 60s 65ms/step - loss: 0.1232 - accuracy: 0.9578 - val_loss: 0.1972 - val_accuracy: 0.9421\n",
            "Epoch 15/25\n",
            "921/921 [==============================] - 59s 64ms/step - loss: 0.1088 - accuracy: 0.9631 - val_loss: 0.1685 - val_accuracy: 0.9468\n",
            "Epoch 16/25\n",
            "921/921 [==============================] - 60s 66ms/step - loss: 0.1019 - accuracy: 0.9656 - val_loss: 0.1647 - val_accuracy: 0.9479\n",
            "Epoch 17/25\n",
            "921/921 [==============================] - 60s 65ms/step - loss: 0.0953 - accuracy: 0.9678 - val_loss: 0.1671 - val_accuracy: 0.9456\n",
            "Epoch 18/25\n",
            "921/921 [==============================] - 61s 66ms/step - loss: 0.0891 - accuracy: 0.9709 - val_loss: 0.1730 - val_accuracy: 0.9441\n",
            "Epoch 19/25\n",
            "921/921 [==============================] - 61s 66ms/step - loss: 0.0866 - accuracy: 0.9714 - val_loss: 0.1644 - val_accuracy: 0.9489\n",
            "Epoch 20/25\n",
            "921/921 [==============================] - 61s 66ms/step - loss: 0.0795 - accuracy: 0.9740 - val_loss: 0.1641 - val_accuracy: 0.9510\n",
            "Epoch 21/25\n",
            "921/921 [==============================] - 60s 65ms/step - loss: 0.0762 - accuracy: 0.9748 - val_loss: 0.1714 - val_accuracy: 0.9473\n",
            "Epoch 22/25\n",
            "921/921 [==============================] - 60s 65ms/step - loss: 0.0733 - accuracy: 0.9760 - val_loss: 0.1794 - val_accuracy: 0.9475\n",
            "Epoch 23/25\n",
            "921/921 [==============================] - 60s 66ms/step - loss: 0.0700 - accuracy: 0.9771 - val_loss: 0.1887 - val_accuracy: 0.9477\n",
            "Epoch 24/25\n",
            "921/921 [==============================] - 60s 66ms/step - loss: 0.0655 - accuracy: 0.9789 - val_loss: 0.2102 - val_accuracy: 0.9459\n",
            "Epoch 25/25\n",
            "921/921 [==============================] - 61s 66ms/step - loss: 0.0660 - accuracy: 0.9791 - val_loss: 0.1830 - val_accuracy: 0.9452\n"
          ],
          "name": "stdout"
        }
      ]
    },
    {
      "cell_type": "markdown",
      "metadata": {
        "id": "dB3p2XswNubz"
      },
      "source": [
        "## Evaluating performace of the model"
      ]
    },
    {
      "cell_type": "code",
      "metadata": {
        "colab": {
          "base_uri": "https://localhost:8080/",
          "height": 573
        },
        "id": "1LE0NvxQRETY",
        "outputId": "591f3518-d7e7-49fa-d7a8-b2f975091d4d"
      },
      "source": [
        "#Plot the loss and accuracy for the model\n",
        "plot_history(history_lstm)"
      ],
      "execution_count": 21,
      "outputs": [
        {
          "output_type": "display_data",
          "data": {
            "image/png": "[encoded data removed]",
            "text/plain": [
              "<Figure size 432x288 with 1 Axes>"
            ]
          },
          "metadata": {
            "tags": [],
            "needs_background": "light"
          }
        },
        {
          "output_type": "display_data",
          "data": {
            "image/png": "[encoded data removed]",
            "text/plain": [
              "<Figure size 432x288 with 1 Axes>"
            ]
          },
          "metadata": {
            "tags": [],
            "needs_background": "light"
          }
        }
      ]
    },
    {
      "cell_type": "code",
      "metadata": {
        "colab": {
          "base_uri": "https://localhost:8080/"
        },
        "id": "Ii4uvjNCpnBN",
        "outputId": "b49e5c62-7b3e-4713-f665-f6e721cb0eea"
      },
      "source": [
        "from sklearn.metrics import classification_report\n",
        "\n",
        "y_val_pred = lstm_model.predict(x_val)\n",
        "y_val_pred_flat = flatten_pred(y_val_pred)\n",
        "y_val_flat = flatten_pred(y_val)\n",
        "print(classification_report(y_val_pred_flat, y_val_flat))"
      ],
      "execution_count": 55,
      "outputs": [
        {
          "output_type": "stream",
          "text": [
            "              precision    recall  f1-score   support\n",
            "\n",
            "           0       0.96      0.96      0.96     96620\n",
            "           1       0.93      0.92      0.93      5725\n",
            "           2       0.93      0.95      0.94      7383\n",
            "           3       0.87      0.87      0.87     21192\n",
            "\n",
            "    accuracy                           0.95    130920\n",
            "   macro avg       0.92      0.93      0.93    130920\n",
            "weighted avg       0.95      0.95      0.95    130920\n",
            "\n"
          ],
          "name": "stdout"
        }
      ]
    },
    {
      "cell_type": "markdown",
      "metadata": {
        "id": "f7D7j11EiZJq"
      },
      "source": [
        "# Prediction"
      ]
    },
    {
      "cell_type": "markdown",
      "metadata": {
        "id": "Qs35ZE7oL3du"
      },
      "source": [
        "## Read the test data files"
      ]
    },
    {
      "cell_type": "code",
      "metadata": {
        "id": "p4oK2RDeMf-z"
      },
      "source": [
        "# Read all test data files \n",
        "x_test_009 = pd.read_csv('Test_Data_allx/subject_009_01x_meas_time.csv')\n",
        "x_test_010 = pd.read_csv('Test_Data_allx/subject_010_01x_meas_time.csv')\n",
        "x_test_011 = pd.read_csv('Test_Data_allx/subject_011_01x_meas_time.csv')\n",
        "x_test_012 = pd.read_csv('Test_Data_allx/subject_012_01x_meas_time.csv')\n",
        "\n",
        "x_test_009 = x_test_009.drop('time', axis=1)\n",
        "x_test_010 = x_test_010.drop('time', axis=1)\n",
        "x_test_011 = x_test_011.drop('time', axis=1)\n",
        "x_test_012 = x_test_012.drop('time', axis=1)"
      ],
      "execution_count": 22,
      "outputs": []
    },
    {
      "cell_type": "markdown",
      "metadata": {
        "id": "UOliYNc8L7mg"
      },
      "source": [
        "## Standardize the Test Data set\n",
        "\n",
        "Standardize the test data set using .transform function.\n",
        "We are standardizing the test data set to the same scale to the training dataset."
      ]
    },
    {
      "cell_type": "code",
      "metadata": {
        "id": "OdJZhGzCMydb"
      },
      "source": [
        "x_test_009_scaled = scaler.transform(x_test_009)\n",
        "x_test_009 = pd.DataFrame(x_test_009_scaled, columns = ['ax','ay','az','gx','gy','gz'])\n",
        "\n",
        "x_test_010_scaled = scaler.transform(x_test_010)\n",
        "x_test_010 = pd.DataFrame(x_test_010_scaled, columns = ['ax','ay','az','gx','gy','gz'])\n",
        "\n",
        "x_test_011_scaled = scaler.transform(x_test_011)\n",
        "x_test_011 = pd.DataFrame(x_test_011_scaled, columns = ['ax','ay','az','gx','gy','gz'])\n",
        "\n",
        "x_test_012_scaled = scaler.transform(x_test_012)\n",
        "x_test_012 = pd.DataFrame(x_test_012_scaled, columns = ['ax','ay','az','gx','gy','gz'])"
      ],
      "execution_count": 37,
      "outputs": []
    },
    {
      "cell_type": "markdown",
      "metadata": {
        "id": "ChP5BYcXMR1y"
      },
      "source": [
        "## Creatiing Windows for the test dataset"
      ]
    },
    {
      "cell_type": "code",
      "metadata": {
        "id": "9-HevOl4M1KE"
      },
      "source": [
        "# Defining Function to Create window for test dataset\n",
        "def define_test_windows(df_x, windowsize=40):\n",
        "  window_x=[]\n",
        "  for i in range(0, len(df_x)-windowsize, windowsize):\n",
        "    window_x.append([df_x.values[i:i+windowsize]])\n",
        "  window_x=np.array(window_x).reshape(-1,windowsize,6)\n",
        "  \n",
        "  return window_x\n"
      ],
      "execution_count": 38,
      "outputs": []
    },
    {
      "cell_type": "code",
      "metadata": {
        "id": "DkDXXCbfM7G7"
      },
      "source": [
        "#Creating frames for all test subjects\n",
        "x_09 = define_test_windows(x_test_009, wsize)\n",
        "x_10 = define_test_windows(x_test_010, wsize)\n",
        "x_11 = define_test_windows(x_test_011, wsize)\n",
        "x_12 = define_test_windows(x_test_012, wsize)"
      ],
      "execution_count": 39,
      "outputs": []
    },
    {
      "cell_type": "code",
      "metadata": {
        "colab": {
          "base_uri": "https://localhost:8080/"
        },
        "id": "fi69HlgAUvEU",
        "outputId": "cf408ec4-c21f-4a90-a640-ac8822b14a8e"
      },
      "source": [
        "x_09.shape"
      ],
      "execution_count": 40,
      "outputs": [
        {
          "output_type": "execute_result",
          "data": {
            "text/plain": [
              "(949, 40, 6)"
            ]
          },
          "metadata": {
            "tags": []
          },
          "execution_count": 40
        }
      ]
    },
    {
      "cell_type": "markdown",
      "metadata": {
        "id": "2isaTmUtMWkQ"
      },
      "source": [
        "## Perform prediction and transform the predicted categorical values to integer labels"
      ]
    },
    {
      "cell_type": "code",
      "metadata": {
        "id": "dNpt1vuqNAOH"
      },
      "source": [
        "def predictions(model):\n",
        "  y_pred_009 = model.predict(x_09)\n",
        "  y_pred_010 = model.predict(x_10)\n",
        "  y_pred_011 = model.predict(x_11)\n",
        "  y_pred_012 = model.predict(x_12)\n",
        "\n",
        "  #prediction for Subject 09\n",
        "  y_009 = y_pred_009.tolist()\n",
        "  yhat_009 = flatten_pred(y_009)\n",
        "\n",
        "  #prediction for Subject 10\n",
        "  y_010 = y_pred_010.tolist()\n",
        "  yhat_010 = flatten_pred(y_010)\n",
        "\n",
        "  #prediction for Subject 11\n",
        "  y_011 = y_pred_011.tolist()\n",
        "  yhat_011 = flatten_pred(y_011)\n",
        "\n",
        "  #prediction for Subject 12\n",
        "  y_012 = y_pred_012.tolist()\n",
        "  yhat_012 = flatten_pred(y_012)\n",
        "\n",
        "  print(y_pred_009.shape, y_pred_010.shape, y_pred_011.shape, y_pred_012.shape)\n",
        "\n",
        "  return yhat_009, yhat_010, yhat_011, yhat_012"
      ],
      "execution_count": 41,
      "outputs": []
    },
    {
      "cell_type": "code",
      "metadata": {
        "colab": {
          "base_uri": "https://localhost:8080/"
        },
        "id": "3J_bDg_aNDy1",
        "outputId": "13d8a141-c8a9-4fc0-81c2-5a318835ed60"
      },
      "source": [
        "#Predictions for all test subjects\n",
        "yhat_009, yhat_010, yhat_011, yhat_012 = predictions(lstm_model)"
      ],
      "execution_count": 42,
      "outputs": [
        {
          "output_type": "stream",
          "text": [
            "(949, 40, 4) (1227, 40, 4) (1294, 40, 4) (1132, 40, 4)\n"
          ],
          "name": "stdout"
        }
      ]
    },
    {
      "cell_type": "code",
      "metadata": {
        "id": "RVq3FbA8lged"
      },
      "source": [
        "yhat_009_df=pd.DataFrame(yhat_009, columns=['label'])\n",
        "yhat_010_df=pd.DataFrame(yhat_010, columns=['label'])\n",
        "yhat_011_df=pd.DataFrame(yhat_011, columns=['label'])\n",
        "yhat_012_df=pd.DataFrame(yhat_012, columns=['label'])"
      ],
      "execution_count": 43,
      "outputs": []
    },
    {
      "cell_type": "code",
      "metadata": {
        "id": "kgQgs5LYkTmQ"
      },
      "source": [
        "# Read all test data files \n",
        "x_meas9 = pd.read_csv('Test_Data_allx/subject_009_01x_meas_time.csv')\n",
        "x_meas10 = pd.read_csv('Test_Data_allx/subject_010_01x_meas_time.csv')\n",
        "x_meas11 = pd.read_csv('Test_Data_allx/subject_011_01x_meas_time.csv')\n",
        "x_meas12 = pd.read_csv('Test_Data_allx/subject_012_01x_meas_time.csv')"
      ],
      "execution_count": 44,
      "outputs": []
    },
    {
      "cell_type": "code",
      "metadata": {
        "id": "tZJ9sfi1mLrY"
      },
      "source": [
        "x_meas9 = x_meas9.join(yhat_009_df, how='left')\n",
        "x_meas10 = x_meas10.join(yhat_010_df, how='left')\n",
        "x_meas11 = x_meas11.join(yhat_011_df, how='left')\n",
        "x_meas12 = x_meas12.join(yhat_012_df, how='left')\n",
        "\n",
        "x_meas9['label'] = x_meas9['label'].fillna(0)\n",
        "x_meas10['label'] = x_meas10['label'].fillna(0)\n",
        "x_meas11['label'] = x_meas11['label'].fillna(0)\n",
        "x_meas12['label'] = x_meas12['label'].fillna(0)"
      ],
      "execution_count": 45,
      "outputs": []
    },
    {
      "cell_type": "code",
      "metadata": {
        "id": "OdRZNLyRmwMo"
      },
      "source": [
        "y_time_009 = pd.read_csv('Test_Data_allx/subject_009_01y_time.csv')\n",
        "y_time_010 = pd.read_csv('Test_Data_allx/subject_010_01y_time.csv')\n",
        "y_time_011 = pd.read_csv('Test_Data_allx/subject_011_01y_time.csv')\n",
        "y_time_012 = pd.read_csv('Test_Data_allx/subject_012_01y_time.csv')"
      ],
      "execution_count": 46,
      "outputs": []
    },
    {
      "cell_type": "code",
      "metadata": {
        "id": "uRzZuXKdmiIq"
      },
      "source": [
        "xmeasfinal9 = pd.merge(x_meas9, y_time_009, on='time', how='inner')\n",
        "xmeasfinal10 = pd.merge(x_meas10, y_time_010, on='time', how='inner')\n",
        "xmeasfinal11 = pd.merge(x_meas11, y_time_011, on='time', how='inner')\n",
        "xmeasfinal12 = pd.merge(x_meas12, y_time_012, on='time', how='inner')"
      ],
      "execution_count": 47,
      "outputs": []
    },
    {
      "cell_type": "code",
      "metadata": {
        "id": "FA5XxkCEn1RM"
      },
      "source": [
        "# Change the test result directory before running this cell\n",
        "xmeasfinal9['label'].to_csv(\"TestResults/new/tuning/subject_009_01__y_prediction.csv\", index=False, header=False)\n",
        "xmeasfinal10['label'].to_csv(\"TestResults/new/tuning/subject_010_01__y_prediction.csv\", index=False, header=False)\n",
        "xmeasfinal11['label'].to_csv(\"TestResults/new/tuning/subject_011_01__y_prediction.csv\", index=False, header=False)\n",
        "xmeasfinal12['label'].to_csv(\"TestResults/new/tuning/subject_012_01__y_prediction.csv\", index=False, header=False)"
      ],
      "execution_count": null,
      "outputs": []
    },
    {
      "cell_type": "markdown",
      "metadata": {
        "id": "pqaOgdwD_Ofu"
      },
      "source": [
        "#Illustration of Test dataset\n",
        "\n",
        "Taking the labels of subject 9 and checking the labels and identifying the prediction pattern"
      ]
    },
    {
      "cell_type": "code",
      "metadata": {
        "colab": {
          "base_uri": "https://localhost:8080/"
        },
        "id": "aPF0zqTi_SVl",
        "outputId": "6c182a64-5f3e-405f-d58a-1629b2aa470b"
      },
      "source": [
        "x_measfinal9 = pd.read_csv('TestResults/new/subject_009_01__y_prediction.csv')\n",
        "x_measfinal10 = pd.read_csv('TestResults/new/subject_010_01__y_prediction.csv')\n",
        "x_measfinal11 = pd.read_csv('TestResults/new/subject_011_01__y_prediction.csv')\n",
        "x_measfinal12 = pd.read_csv('TestResults/new/subject_012_01__y_prediction.csv')\n",
        "print(x_measfinal9.value_counts())\n",
        "print(x_measfinal10.value_counts())\n",
        "print(x_measfinal11.value_counts())\n",
        "print(x_measfinal12.value_counts())"
      ],
      "execution_count": 38,
      "outputs": [
        {
          "output_type": "stream",
          "text": [
            "0.0\n",
            "0.0    8586\n",
            "3.0     422\n",
            "1.0     340\n",
            "2.0     149\n",
            "dtype: int64\n",
            "0.0\n",
            "0.0    8007\n",
            "3.0    3348\n",
            "2.0     467\n",
            "1.0     447\n",
            "dtype: int64\n",
            "0.0\n",
            "0.0    8979\n",
            "3.0    2747\n",
            "2.0     738\n",
            "1.0     475\n",
            "dtype: int64\n",
            "0.0\n",
            "0.0    8869\n",
            "3.0     988\n",
            "2.0     852\n",
            "1.0     620\n",
            "dtype: int64\n"
          ],
          "name": "stdout"
        }
      ]
    },
    {
      "cell_type": "code",
      "metadata": {
        "colab": {
          "base_uri": "https://localhost:8080/",
          "height": 592
        },
        "id": "oUtulaLlErR-",
        "outputId": "b597d197-5ac5-4f06-f67a-87463257c0af"
      },
      "source": [
        "import matplotlib.pyplot as plt\n",
        "\n",
        "plt.figure(figsize=(20, 10))\n",
        "plt.plot(x_measfinal9)\n",
        "plt.show()"
      ],
      "execution_count": 33,
      "outputs": [
        {
          "output_type": "display_data",
          "data": {
            "image/png": "[encoded data removed]",
            "text/plain": [
              "<Figure size 1440x720 with 1 Axes>"
            ]
          },
          "metadata": {
            "tags": [],
            "needs_background": "light"
          }
        }
      ]
    },
    {
      "cell_type": "code",
      "metadata": {
        "colab": {
          "base_uri": "https://localhost:8080/",
          "height": 513
        },
        "id": "ciLCX1GDG1Ev",
        "outputId": "fd0c5f0e-7d5d-4da5-8813-124d48788a65"
      },
      "source": [
        "plt.figure(figsize=(15, 8))\n",
        "plt.plot(x_measfinal9[7000:8000])\n",
        "plt.ylabel('Label')\n",
        "plt.xlabel('# of Samples for Subject 9')\n",
        "plt.title('Trend plot for subsample for Subject 9')\n",
        "plt.show()"
      ],
      "execution_count": 36,
      "outputs": [
        {
          "output_type": "display_data",
          "data": {
            "image/png": "[encoded data removed]",
            "text/plain": [
              "<Figure size 1080x576 with 1 Axes>"
            ]
          },
          "metadata": {
            "tags": [],
            "needs_background": "light"
          }
        }
      ]
    }
  ]
}